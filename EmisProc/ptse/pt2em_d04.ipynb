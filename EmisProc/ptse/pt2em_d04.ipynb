{
 "cells": [
  {
   "cell_type": "markdown",
   "id": "00000000",
   "metadata": {},
   "source": [
    "---\n",
    "layout: default\n",
    "title: \"Elev PTse Downgrade\"\n",
    "parent: \"Point Sources\"\n",
    "grand_parent: \"Emission Processing\"\n",
    "nav_order: 6\n",
    "date: 2021-12-08 15:49:27\n",
    "last_modified_date:   2021-12-08 15:49:19\n",
    "---\n",
    "\n",
    "# CAMx高空排放檔之網格化\n",
    "{: .no_toc }\n",
    "\n",
    "<details open markdown=\"block\">\n",
    "  <summary>\n",
    "    Table of contents\n",
    "  </summary>\n",
    "  {: .text-delta }\n",
    "- TOC\n",
    "{:toc}\n",
    "</details>\n",
    "---\n",
    "\n",
    "## 背景\n",
    "高空點源排放檔案沒有適用的顯示軟體。須轉成其他格式，此處以`d04`範圍地面排放量檔案格式為目標，該格式可以在[VERDI](https://github.com/CEMPD/VERDI/blob/master/doc/User_Manual/VERDI_ch01.md)或[MeteoInfo](http://meteothink.org/)中開啟。\n",
    "\n",
    "## 程式說明\n",
    "\n",
    "### 程式執行\n",
    "- [pt2em_d04.py](https://raw.githubusercontent.com/sinotec2/Focus-on-Air-Quality/main/EmisProc/ptse/pt2em_d04.py)只需要一個引數，就是CAMx點源排放量檔案。\n",
    "- 程式會以`template_d4.nc`為模版，將點源排放量予以網格化填入模版相對應位置。\n",
    "- 時間標籤則與輸入檔案一致。\n",
    "\n"
   ]
  },
  {
   "cell_type": "code",
   "execution_count": 1,
   "id": "00000001",
   "metadata": {},
   "outputs": [],
   "source": [
    "pt2em_d04.py fortBE.413_teds10.ptsE01.nc\n"
   ]
  },
  {
   "cell_type": "markdown",
   "id": "00000002",
   "metadata": {},
   "source": [
    "- 執行結果檔案會再輸入檔名稱後加上`_d04.nc`，以標示其網格系統特性。\n",
    "\n",
    "### 程式分段說明\n",
    "- 調用模組\n",
    "\n"
   ]
  },
  {
   "cell_type": "code",
   "execution_count": 2,
   "id": "00000003",
   "metadata": {},
   "outputs": [],
   "source": [
    "#kuang@node03 /nas1/TEDS/teds11/ptse\n",
    "#$ cat -n pt2em_d04.py\n",
    "import netCDF4\n",
    "import numpy as np\n",
    "import datetime\n",
    "import os, sys, subprocess\n",
    "from pandas import *\n"
   ]
  },
  {
   "cell_type": "markdown",
   "id": "00000004",
   "metadata": {},
   "source": [
    "- 重要相依性\n",
    "  - 取得`ncks`、`ncatted`等程式之位置\n",
    "  - 取得引數(高空點源檔案名稱)\n",
    "\n"
   ]
  },
  {
   "cell_type": "code",
   "execution_count": 3,
   "id": "00000005",
   "metadata": {},
   "outputs": [],
   "source": [
    "ncks=subprocess.check_output('which ncks',shell=True).decode('utf8').strip('\\n')\n",
    "ncatted=subprocess.check_output('which ncatted',shell=True).decode('utf8').strip('\\n')\n",
    "MM='fortBE.413_teds11.ptsE02.nc'#sys.argv[1]\n",
    "fname=MM\n"
   ]
  },
  {
   "cell_type": "markdown",
   "id": "00000006",
   "metadata": {},
   "source": [
    "- 讀取高空排放量檔案(內設為CAMx 7版本)\n",
    "  - 變數讀取是最花時間的步驟\n",
    "\n"
   ]
  },
  {
   "cell_type": "code",
   "execution_count": 5,
   "id": "00000007",
   "metadata": {},
   "outputs": [],
   "source": [
    "#store the point source matrix\n",
    "nct = netCDF4.Dataset(fname,'r')\n",
    "Vt=[list(filter(lambda x:nct.variables[x].ndim==j, [i for i in nct.variables])) for j in [1,2,3,4]]\n",
    "ntt,nvt,dt=nct.variables[Vt[2][0]].shape\n",
    "try:\n",
    "  nopts=nct.NOPTS\n",
    "except:\n",
    "  nopts=nct.dimensions['COL'].size\n",
    "TFLAG=nct.variables['TFLAG'][:,0,:]\n",
    "ETFLAG=nct.variables['ETFLAG'][:,0,:]\n",
    "SDATE=nct.SDATE\n",
    "STIME=nct.STIME\n",
    "Vt1=[i for i in Vt[1] if i not in ['CP_NO','plumerise']]\n",
    "var=np.zeros(shape=(len(Vt1),ntt,nopts))\n",
    "for v in Vt1:\n",
    "  iv=Vt1.index(v)\n",
    "  var[iv,:,:]=nct.variables[v][:,:]\n"
   ]
  },
  {
   "cell_type": "code",
   "execution_count": 11,
   "id": "b6e072e1",
   "metadata": {},
   "outputs": [
    {
     "name": "stdout",
     "output_type": "stream",
     "text": [
      "FPRM 2815001.5\n",
      "[('pigflag', 0), ('saoverride', -2147483647), ('stkdiam', 7.7878523), ('stkheight', 120.0), ('stkspeed', 57960.0), ('stktemp', 389.0), ('xcoord', -31599.686), ('ycoord', 94159.58)]\n"
     ]
    }
   ],
   "source": [
    "mx=np.max(var)\n",
    "idx=np.where(var==mx)\n",
    "print(Vt1[idx[0][0]],mx)\n",
    "print([(v,np.array(nct.variables[v][:])[idx[2][0]]) for v in Vt[0]])"
   ]
  },
  {
   "cell_type": "markdown",
   "id": "00000008",
   "metadata": {},
   "source": [
    "- 開啟模版，並讀取網格系統之設定內容，用以計算網格位置標籤。\n",
    "\n"
   ]
  },
  {
   "cell_type": "code",
   "execution_count": 17,
   "id": "00000009",
   "metadata": {},
   "outputs": [
    {
     "name": "stdout",
     "output_type": "stream",
     "text": [
      "-124500.0 -205500.0 3000.0 3000.0\n"
     ]
    }
   ],
   "source": [
    "fname='/nas1/TEDS/teds11/ptse/'+MM+'_d04.nc'\n",
    "#os.system('cp template_d4.nc '+fname)\n",
    "nc = netCDF4.Dataset(fname,'r+')\n",
    "V=[list(filter(lambda x:nc.variables[x].ndim==j, [i for i in nc.variables])) for j in [1,2,3,4]]\n",
    "nt,nlay,nrow,ncol=nc.variables[V[3][0]].shape\n",
    "#determination of camx version and prepare IX/IY\n",
    "ver=7\n",
    "if 'XSTK' in Vt[0]:ver=6\n",
    "X={6:'XSTK',7:'xcoord'}\n",
    "Y={6:'YSTK',7:'ycoord'}\n",
    "#store the coordinate system param. for calibration\n",
    "for c in ['X','Y']:\n",
    "  for d in ['ORIG','CELL']:\n",
    "    exec(c+d+'=nc.'+c+d)\n",
    "print(XORIG,YORIG,XCELL,YCELL)"
   ]
  },
  {
   "cell_type": "markdown",
   "id": "00000010",
   "metadata": {},
   "source": [
    "- 計算每根煙道的網格位置標籤(`IX`, `IY`)備用\n",
    "\n"
   ]
  },
  {
   "cell_type": "code",
   "execution_count": 18,
   "id": "00000011",
   "metadata": {},
   "outputs": [],
   "source": [
    "IX=np.array([(i-nc.XORIG)/nc.XCELL for i in nct.variables[X[ver]][:nopts]],dtype=int)\n",
    "IY=np.array([(i-nc.YORIG)/nc.XCELL for i in nct.variables[Y[ver]][:nopts]],dtype=int)\n",
    "nct.close()\n",
    "nc.close()\n"
   ]
  },
  {
   "cell_type": "markdown",
   "id": "00000012",
   "metadata": {},
   "source": [
    "- 篩選非為0的內容來輸出\n",
    "  - 如果確實有部分變數沒有內容，則從模版中予以去除，以減少檔案容量\n",
    "\n"
   ]
  },
  {
   "cell_type": "code",
   "execution_count": 20,
   "id": "00000013",
   "metadata": {},
   "outputs": [
    {
     "name": "stdout",
     "output_type": "stream",
     "text": [
      "23 35\n"
     ]
    },
    {
     "ename": "SystemExit",
     "evalue": "/usr/bin/ncks -x var fail",
     "output_type": "error",
     "traceback": [
      "An exception has occurred, use %tb to see the full traceback.\n",
      "\u001b[0;31mSystemExit\u001b[0m\u001b[0;31m:\u001b[0m /usr/bin/ncks -x var fail\n"
     ]
    }
   ],
   "source": [
    "#variable sets interception and with values\n",
    "sint=[v for v in set(Vt1)&set(V[3]) if np.sum(var[Vt1.index(v),:,:])!=0.]\n",
    "print(len(sint), len(V[3]))\n",
    "if len(sint)!=len(V[3]):\n",
    "  s=''.join([c+',' for c in set(V[3])-set(sint)])\n",
    "  ftmp=fname+'tmp'\n",
    "  res=os.system(ncks+' -O -x -v'+s.strip(',')+' '+fname+' '+ftmp)\n",
    "  if res!=0: sys.exit(ncks+' -x var fail')\n",
    "  ns=str(len(sint)-1)\n",
    "  res=os.system(ncks+' -O -d VAR,0,'+ns+' '+ftmp+' '+fname)\n",
    "  if res!=0: sys.exit(ncks+' -d VAR fail')\n",
    "#template is OK\n"
   ]
  },
  {
   "cell_type": "markdown",
   "id": "00000014",
   "metadata": {},
   "source": [
    "- 執行`pandas.pivot_table`，以利用其平行處理功能。\n",
    "  - 須將矩陣轉為資料表\n",
    "\n"
   ]
  },
  {
   "cell_type": "code",
   "execution_count": 22,
   "id": "00000015",
   "metadata": {},
   "outputs": [
    {
     "data": {
      "text/html": [
       "<div>\n",
       "<style scoped>\n",
       "    .dataframe tbody tr th:only-of-type {\n",
       "        vertical-align: middle;\n",
       "    }\n",
       "\n",
       "    .dataframe tbody tr th {\n",
       "        vertical-align: top;\n",
       "    }\n",
       "\n",
       "    .dataframe thead th {\n",
       "        text-align: right;\n",
       "    }\n",
       "</style>\n",
       "<table border=\"1\" class=\"dataframe\">\n",
       "  <thead>\n",
       "    <tr style=\"text-align: right;\">\n",
       "      <th></th>\n",
       "      <th>YJH</th>\n",
       "      <th>IX</th>\n",
       "      <th>IY</th>\n",
       "      <th>ALD2</th>\n",
       "      <th>ALDX</th>\n",
       "      <th>BENZ</th>\n",
       "      <th>CCRS</th>\n",
       "      <th>CPRM</th>\n",
       "      <th>ETH</th>\n",
       "      <th>ETHA</th>\n",
       "      <th>...</th>\n",
       "      <th>MEOH</th>\n",
       "      <th>NO</th>\n",
       "      <th>NO2</th>\n",
       "      <th>OLE</th>\n",
       "      <th>PAR</th>\n",
       "      <th>POA</th>\n",
       "      <th>SO2</th>\n",
       "      <th>TERP</th>\n",
       "      <th>TOL</th>\n",
       "      <th>XYL</th>\n",
       "    </tr>\n",
       "  </thead>\n",
       "  <tbody>\n",
       "    <tr>\n",
       "      <th>0</th>\n",
       "      <td>0</td>\n",
       "      <td>-47</td>\n",
       "      <td>98</td>\n",
       "      <td>0.0</td>\n",
       "      <td>0.0</td>\n",
       "      <td>0.0</td>\n",
       "      <td>0.000000</td>\n",
       "      <td>21.130952</td>\n",
       "      <td>0.0</td>\n",
       "      <td>0.0</td>\n",
       "      <td>...</td>\n",
       "      <td>0.0</td>\n",
       "      <td>7176.601254</td>\n",
       "      <td>797.400281</td>\n",
       "      <td>0.0</td>\n",
       "      <td>0.0</td>\n",
       "      <td>0.0</td>\n",
       "      <td>418.430357</td>\n",
       "      <td>0.0</td>\n",
       "      <td>0.0</td>\n",
       "      <td>0.0</td>\n",
       "    </tr>\n",
       "    <tr>\n",
       "      <th>1</th>\n",
       "      <td>0</td>\n",
       "      <td>-46</td>\n",
       "      <td>97</td>\n",
       "      <td>0.0</td>\n",
       "      <td>0.0</td>\n",
       "      <td>0.0</td>\n",
       "      <td>4.413224</td>\n",
       "      <td>0.466853</td>\n",
       "      <td>0.0</td>\n",
       "      <td>0.0</td>\n",
       "      <td>...</td>\n",
       "      <td>0.0</td>\n",
       "      <td>21.535897</td>\n",
       "      <td>2.392878</td>\n",
       "      <td>0.0</td>\n",
       "      <td>0.0</td>\n",
       "      <td>0.0</td>\n",
       "      <td>0.382966</td>\n",
       "      <td>0.0</td>\n",
       "      <td>0.0</td>\n",
       "      <td>0.0</td>\n",
       "    </tr>\n",
       "    <tr>\n",
       "      <th>2</th>\n",
       "      <td>0</td>\n",
       "      <td>-46</td>\n",
       "      <td>98</td>\n",
       "      <td>0.0</td>\n",
       "      <td>0.0</td>\n",
       "      <td>0.0</td>\n",
       "      <td>8.593750</td>\n",
       "      <td>0.000000</td>\n",
       "      <td>0.0</td>\n",
       "      <td>0.0</td>\n",
       "      <td>...</td>\n",
       "      <td>0.0</td>\n",
       "      <td>0.000000</td>\n",
       "      <td>0.000000</td>\n",
       "      <td>0.0</td>\n",
       "      <td>0.0</td>\n",
       "      <td>0.0</td>\n",
       "      <td>0.000000</td>\n",
       "      <td>0.0</td>\n",
       "      <td>0.0</td>\n",
       "      <td>0.0</td>\n",
       "    </tr>\n",
       "    <tr>\n",
       "      <th>3</th>\n",
       "      <td>0</td>\n",
       "      <td>-45</td>\n",
       "      <td>98</td>\n",
       "      <td>0.0</td>\n",
       "      <td>0.0</td>\n",
       "      <td>0.0</td>\n",
       "      <td>1.563959</td>\n",
       "      <td>1.218991</td>\n",
       "      <td>0.0</td>\n",
       "      <td>0.0</td>\n",
       "      <td>...</td>\n",
       "      <td>0.0</td>\n",
       "      <td>42.053254</td>\n",
       "      <td>4.672585</td>\n",
       "      <td>0.0</td>\n",
       "      <td>0.0</td>\n",
       "      <td>0.0</td>\n",
       "      <td>0.618513</td>\n",
       "      <td>0.0</td>\n",
       "      <td>0.0</td>\n",
       "      <td>0.0</td>\n",
       "    </tr>\n",
       "    <tr>\n",
       "      <th>4</th>\n",
       "      <td>0</td>\n",
       "      <td>-43</td>\n",
       "      <td>98</td>\n",
       "      <td>0.0</td>\n",
       "      <td>0.0</td>\n",
       "      <td>0.0</td>\n",
       "      <td>0.000000</td>\n",
       "      <td>2.358059</td>\n",
       "      <td>0.0</td>\n",
       "      <td>0.0</td>\n",
       "      <td>...</td>\n",
       "      <td>0.0</td>\n",
       "      <td>820.090761</td>\n",
       "      <td>91.121212</td>\n",
       "      <td>0.0</td>\n",
       "      <td>0.0</td>\n",
       "      <td>0.0</td>\n",
       "      <td>1.978165</td>\n",
       "      <td>0.0</td>\n",
       "      <td>0.0</td>\n",
       "      <td>0.0</td>\n",
       "    </tr>\n",
       "  </tbody>\n",
       "</table>\n",
       "<p>5 rows × 26 columns</p>\n",
       "</div>"
      ],
      "text/plain": [
       "   YJH  IX  IY  ALD2  ALDX  BENZ      CCRS       CPRM  ETH  ETHA  ...  MEOH  \\\n",
       "0    0 -47  98   0.0   0.0   0.0  0.000000  21.130952  0.0   0.0  ...   0.0   \n",
       "1    0 -46  97   0.0   0.0   0.0  4.413224   0.466853  0.0   0.0  ...   0.0   \n",
       "2    0 -46  98   0.0   0.0   0.0  8.593750   0.000000  0.0   0.0  ...   0.0   \n",
       "3    0 -45  98   0.0   0.0   0.0  1.563959   1.218991  0.0   0.0  ...   0.0   \n",
       "4    0 -43  98   0.0   0.0   0.0  0.000000   2.358059  0.0   0.0  ...   0.0   \n",
       "\n",
       "            NO         NO2  OLE  PAR  POA         SO2  TERP  TOL  XYL  \n",
       "0  7176.601254  797.400281  0.0  0.0  0.0  418.430357   0.0  0.0  0.0  \n",
       "1    21.535897    2.392878  0.0  0.0  0.0    0.382966   0.0  0.0  0.0  \n",
       "2     0.000000    0.000000  0.0  0.0  0.0    0.000000   0.0  0.0  0.0  \n",
       "3    42.053254    4.672585  0.0  0.0  0.0    0.618513   0.0  0.0  0.0  \n",
       "4   820.090761   91.121212  0.0  0.0  0.0    1.978165   0.0  0.0  0.0  \n",
       "\n",
       "[5 rows x 26 columns]"
      ]
     },
     "execution_count": 22,
     "metadata": {},
     "output_type": "execute_result"
    }
   ],
   "source": [
    "#pivoting\n",
    "ntm,NREC=ntt,nopts\n",
    "sdt,ix,iy=(np.zeros(shape=(ntm*NREC),dtype=int) for i in range(3))\n",
    "idatetime=np.array([i for i in range(ntt)],dtype=int)\n",
    "for t in range(ntm):\n",
    "    t1,t2=t*NREC,(t+1)*NREC\n",
    "    ix[t1:t2]=IX\n",
    "    iy[t1:t2]=IY\n",
    "for t in range(ntm):\n",
    "    t1,t2=t*NREC,(t+1)*NREC\n",
    "    sdt[t1:t2]=idatetime[t]\n",
    "dfT=DataFrame({'YJH':sdt,'IX':ix,'IY':iy})\n",
    "for v in sint:\n",
    "  iv=Vt1.index(v)\n",
    "  dfT[v]=var[iv,:,:].flatten()\n",
    "pv=pivot_table(dfT,index=['YJH','IX','IY'],values=sint,aggfunc=sum).reset_index()\n",
    "pv.head()"
   ]
  },
  {
   "cell_type": "markdown",
   "id": "00000016",
   "metadata": {},
   "source": [
    "- 再將`pivot_table`結果轉成矩陣輸出\n",
    "\n"
   ]
  },
  {
   "cell_type": "code",
   "execution_count": 23,
   "id": "00000017",
   "metadata": {},
   "outputs": [],
   "source": [
    "pv.IX=[int(i) for i in pv.IX]\n",
    "pv.IY=[int(i) for i in pv.IY]\n",
    "pv.YJH=[int(i) for i in pv.YJH]\n",
    "boo=(pv.IX>=0) & (pv.IY>=0) & (pv.IX<ncol) & (pv.IY<nrow)\n",
    "pv=pv.loc[boo].reset_index(drop=True)\n",
    "imn,jmn=min(pv.IX),min(pv.IY)\n",
    "imx,jmx=max(max(pv.IX)+abs(imn)*2+1,ncol), max(max(pv.IY)+abs(jmn)*2+1,nrow)\n",
    "if imn<0 and imx+imn<ncol:sys.exit('negative indexing error in i')\n",
    "if jmn<0 and jmx+jmn<nrow:sys.exit('negative indexing error in j')\n",
    "idx=pv.index\n",
    "idt=np.array(pv.loc[idx,'YJH'])\n",
    "iy=np.array(pv.loc[idx,'IY'])\n",
    "ix=np.array(pv.loc[idx,'IX'])\n",
    "#reopen nc files and write time flags, and lengthen the span of time\n",
    "nc = netCDF4.Dataset(fname,'r+')\n",
    "for t in range(ntt):\n",
    "  for i in range(2):\n",
    "    nc.variables['TFLAG'][t,:,i]=TFLAG[t,i]\n",
    "    nc.variables['ETFLAG'][t,:,i]=ETFLAG[t,i]\n",
    "nc.SDATE=SDATE\n",
    "nc.STIME=STIME\n",
    "#blanking all variables\n",
    "for c in sint:\n",
    "  nc.variables[c][:]=0.\n",
    "  z=np.zeros(shape=(ntm,jmx,imx))\n",
    "  ss=np.array(pv.loc[idx,c])\n",
    "  #Note that negative indices are not bothersome and are only at the end of the axis.\n",
    "  z[idt,iy,ix]=ss\n",
    "#also mapping whole matrix, NOT by parts\n",
    "  nc.variables[c][:,0,:,:]=z[:,:nrow,:ncol]\n",
    "nc.close()\n"
   ]
  },
  {
   "cell_type": "markdown",
   "id": "00000018",
   "metadata": {},
   "source": [
    "- 座標微調\n",
    "  - 這一段是早期使用twd97座標系統套用VERDI(內政部縣市`shape`檔)時的誤差，改用經緯度後已無需要執行。\n",
    "\n"
   ]
  },
  {
   "cell_type": "code",
   "execution_count": 24,
   "id": "00000019",
   "metadata": {},
   "outputs": [
    {
     "ename": "SystemExit",
     "evalue": "fine!",
     "output_type": "error",
     "traceback": [
      "An exception has occurred, use %tb to see the full traceback.\n",
      "\u001b[0;31mSystemExit\u001b[0m\u001b[0;31m:\u001b[0m fine!\n"
     ]
    },
    {
     "name": "stderr",
     "output_type": "stream",
     "text": [
      "/opt/miniconda3/envs/geocat/lib/python3.9/site-packages/IPython/core/interactiveshell.py:3452: UserWarning: To exit: use 'exit', 'quit', or Ctrl-D.\n",
      "  warn(\"To exit: use 'exit', 'quit', or Ctrl-D.\", stacklevel=1)\n"
     ]
    }
   ],
   "source": [
    "#using CSC and XieHePP to calibrate the Map\n",
    "xiheIXY_Verdi=(67,126) #fallen in the sea\n",
    "xiheIXY_Target=(66,124)#calibrate with County border and seashore line\n",
    "CSCIXY_Verdi=(20,30) #fallen in the KSHarbor\n",
    "CSCIXY_Target=(21,31)\n",
    "rateXY=np.array([(xiheIXY_Target[i]-CSCIXY_Target[i])/(xiheIXY_Verdi[i]-CSCIXY_Verdi[i]) for i in range(2)])\n",
    "dxy_new=rateXY*np.array([XCELL,YCELL])\n",
    "oxy_new=(1-rateXY)*dxy_new*np.array([ncol,nrow])/2.+np.array([XORIG,YORIG])\n",
    "cmd1=' -a XCELL,global,o,f,'+str(dxy_new[0])\n",
    "cmd2=' -a YCELL,global,o,f,'+str(dxy_new[1])\n",
    "cmd3=' -a XORIG,global,o,f,'+str(oxy_new[0])\n",
    "cmd4=' -a YORIG,global,o,f,'+str(oxy_new[1])\n",
    "#ncatted -a XCELL,global,o,f,2872.340425531915 -a YCELL,global,o,f,2906.25 -a XORIG,global,o,f,-119074.46808510639 -a YORIG,global,o,f,-199078.125 fortBE.413_teds10.ptsE01.nc_d04.nc\n",
    "#res=os.system(ncatted+cmd1+cmd2+cmd3+cmd4+' '+fname)\n",
    "#if res!=0:sys.exit('fail ncatted')\n",
    "sys.exit('fine!')\n"
   ]
  },
  {
   "cell_type": "markdown",
   "id": "00000020",
   "metadata": {},
   "source": [
    "\n",
    "## 結果檢視\n",
    "- [TEDS11高空2月排放檔案之網格分布](https://raw.githubusercontent.com/sinotec2/Focus-on-Air-Quality/main/assets/images/pt2em_d04Demo.PNG)\n",
    "![](https://github.com/sinotec2/Focus-on-Air-Quality/raw/main/assets/images/pt2em_d04Demo.PNG)\n",
    "- [台中電廠之NO排放之時間變化](https://github.com/sinotec2/Focus-on-Air-Quality/raw/main/assets/images/pt2em_d04DemoTimVar.PNG)\n",
    "  - 使用VERDI **Fast Tile Plot**、局部放大、再選取**Plot**、下拉**Time Series of Probed Cell(s)**。\n",
    "![](https://github.com/sinotec2/Focus-on-Air-Quality/raw/main/assets/images/pt2em_d04DemoTimVar.PNG)\n",
    "## 檔案下載\n",
    "- `python`程式：[pt2em_d04.py](https://raw.githubusercontent.com/sinotec2/Focus-on-Air-Quality/main/EmisProc/ptse/pt2em_d04.py)。\n",
    "\n",
    "\n",
    "## Reference\n",
    "- lizadams, **Visualization Environment for Rich Data Interpretation (VERDI): User’s Manual**, [github](https://github.com/CEMPD/VERDI/blob/master/doc/User_Manual/VERDI_ch01.md), August 03, 2021\n",
    "- Yaqiang Wang, **MeteoInfo Introduction**, [meteothink](http://meteothink.org/), 2021,10,16"
   ]
  }
 ],
 "metadata": {
  "kernelspec": {
   "display_name": "Python 3 (ipykernel)",
   "language": "python",
   "name": "python3"
  },
  "language_info": {
   "codemirror_mode": {
    "name": "ipython",
    "version": 3
   },
   "file_extension": ".py",
   "mimetype": "text/x-python",
   "name": "python",
   "nbconvert_exporter": "python",
   "pygments_lexer": "ipython3",
   "version": "3.9.7"
  }
 },
 "nbformat": 4,
 "nbformat_minor": 5
}
