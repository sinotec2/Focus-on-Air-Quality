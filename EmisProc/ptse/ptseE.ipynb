{
 "cells": [
  {
   "cell_type": "markdown",
   "id": "00000000",
   "metadata": {},
   "source": [
    "\n",
    "# CAMx高空點源排放檔案之產生\n",
    "\n",
    "## 背景\n",
    "- 此處處理TEDS PM/VOCs年排放量之劃分、與時變係數相乘、整併到光化模式網格系統內。\n",
    "- 高空點源的**時變係數**檔案需按CEMS數據先行[展開](https://sinotec2.github.io/Focus-on-Air-Quality/EmisProc/ptse/ptseE_ONS/)。\n",
    "- 排放量整體處理原則參見[處理程序總綱](https://sinotec2.github.io/Focus-on-Air-Quality/EmsProc/#處理程序總綱)、針對[點源之處理](https://sinotec2.github.io/Focus-on-Air-Quality/EmisProc/ptse/)及[龐大`.dbf`檔案之讀取](https://sinotec2.github.io/Focus-on-Air-Quality/EmisProc/dbf2csv.py/)，為此處之前處理。程式也會呼叫到[ptse_sub](https://sinotec2.github.io/Focus-on-Air-Quality/EmisProc/ptse/ptse_sub/)中的副程式\n",
    "\n",
    "## 副程式說明\n",
    "\n",
    "### [ptse_sub](https://sinotec2.github.io/Focus-on-Air-Quality/EmisProc/ptse/ptse_sub/)\n",
    "\n",
    "### 對煙道座標進行叢集整併\n",
    "如題所示。整併的理由有幾：\n",
    "- 鄰近煙流在近距離重疊後，會因整體煙流熱量的提升而提升其最終煙流高度，從而降低對地面的影響，此一現象並未在模式的煙流次網格模式中予以考量，須在模式外先行處理。\n",
    "- 重複計算較小煙流對濃度沒有太大的影響，卻耗費大量儲存、處理的電腦資源，因此整併有其必須性。\n",
    "  - 即使將較小的點源按高度切割併入面源，還是保留此一機制，以避免點源個數無限制擴張，有可能放大因品質不佳造成奇異性。\n",
    "\n",
    "#### cluster_xy\n",
    "- 調用`sklearn`之`KMeans`來做叢集分析\n",
    "\n"
   ]
  },
  {
   "cell_type": "code",
   "execution_count": 1,
   "id": "00000001",
   "metadata": {},
   "outputs": [],
   "source": [
    "kuang@node03 /nas1/TEDS/teds11/ptse\n",
    "$ cat -n cluster_xy.py\n",
    "def cluster_xy(df,C_NO):\n",
    "  from sklearn.cluster import KMeans\n",
    "  from pandas import DataFrame\n",
    "  import numpy as np\n",
    "  import sys\n"
   ]
  },
  {
   "cell_type": "markdown",
   "id": "00000002",
   "metadata": {},
   "source": [
    "- 由資料庫中選擇同一**管編**之煙道出來\n",
    "\n",
    "\n"
   ]
  },
  {
   "cell_type": "code",
   "execution_count": 2,
   "id": "00000003",
   "metadata": {},
   "outputs": [],
   "source": [
    "  b=df.loc[df.CP_NO.map(lambda x:x[:8]==C_NO)]\n",
    "  n=len(b)\n",
    "  if n==0:sys.exit('fail filtering of '+C_NO)\n",
    "  colb=b.columns\n"
   ]
  },
  {
   "cell_type": "markdown",
   "id": "00000004",
   "metadata": {},
   "source": [
    "- 此**管編**所有煙道的座標及高度，整併為一個大矩陣\n",
    "  - 進行KMeans叢集分析\n",
    "\n",
    "\n"
   ]
  },
  {
   "cell_type": "code",
   "execution_count": 3,
   "id": "00000005",
   "metadata": {},
   "outputs": [],
   "source": [
    "  x=[b.XY[i][0] for i in b.index]\n",
    "  y=[b.XY[i][1] for i in b.index]\n",
    "  z=b.HEI\n",
    "  M=np.array([x, y, z]).T\n",
    "  clt = KMeans(algorithm='auto', copy_x=True, init='k-means++', max_iter=300, \\\n",
    "       n_clusters=10, n_init=10, n_jobs=-1, precompute_distances='auto', \\\n",
    "       random_state=None, tol=0.0001, verbose=0)\n",
    "  kmeans=clt.fit(M)\n"
   ]
  },
  {
   "cell_type": "markdown",
   "id": "00000006",
   "metadata": {},
   "source": [
    "- 放棄原來的座標，改採叢集的平均位置\n",
    "\n",
    "\n"
   ]
  },
  {
   "cell_type": "code",
   "execution_count": 4,
   "id": "00000007",
   "metadata": {},
   "outputs": [],
   "source": [
    "#  np.array(clt.cluster_centers_) for group\n",
    "  b_lab=np.array(clt.labels_)\n",
    "  df.loc[b.index,'UTM_E']=[np.array(clt.cluster_centers_)[i][0] for i in b_lab]\n",
    "  df.loc[b.index,'UTM_N']=[np.array(clt.cluster_centers_)[i][1] for i in b_lab]\n",
    "  return df\n"
   ]
  },
  {
   "cell_type": "markdown",
   "id": "00000008",
   "metadata": {},
   "source": [
    "#### XY_pivot\n",
    "- 工廠點源個數太多者(如中鋼)，在座標叢集化之前，以pivot_tab取其管道(**管煙**編號=**管編**+**煙編**)排放量之加總值\n",
    "  - 調用模組\n",
    "\n",
    "   \n"
   ]
  },
  {
   "cell_type": "code",
   "execution_count": 5,
   "id": "00000009",
   "metadata": {},
   "outputs": [],
   "source": [
    "#XY clustering in CSC before pivotting\n",
    "#df=cluster_xy(df,'E5600841')\n",
    "#pivotting\n",
    "def XY_pivot(df,col_id,col_em,col_mn,col_mx):\n",
    "  from pandas import pivot_table,merge\n",
    "  import numpy as np\n"
   ]
  },
  {
   "cell_type": "markdown",
   "id": "00000010",
   "metadata": {},
   "source": [
    "- 3類不同屬性欄位適用不同的`aggfunc`\n",
    "  - 排放量(`col_em`)：加總\n",
    "  - 煙道高度(`col_mx`)：最大值\n",
    "  - 煙道其他參數(`col_mn`)：平均\n",
    "\n",
    "   \n"
   ]
  },
  {
   "cell_type": "code",
   "execution_count": 6,
   "id": "00000011",
   "metadata": {},
   "outputs": [],
   "source": [
    "  df_pv1=pivot_table(df,index=col_id,values=col_em,aggfunc=np.sum).reset_index()\n",
    "  df_pv2=pivot_table(df,index=col_id,values=col_mn,aggfunc=np.mean).reset_index()\n",
    "  df_pv3=pivot_table(df,index=col_id,values=col_mx,aggfunc=max).reset_index()\n"
   ]
  },
  {
   "cell_type": "markdown",
   "id": "00000012",
   "metadata": {},
   "source": [
    "- 整併、求取等似直徑、以使流量能守恒\n",
    "\n",
    "   \n"
   ]
  },
  {
   "cell_type": "code",
   "execution_count": 7,
   "id": "00000013",
   "metadata": {},
   "outputs": [],
   "source": [
    "  df1=merge(df_pv1,df_pv2,on=col_id)\n",
    "  df=merge(df1,df_pv3,on=col_id)\n",
    "  df['DIA']=[np.sqrt(4/3.14159*q/60*(t+273)/273/v) for q,t,v in zip(df.ORI_QU1,df.TEMP,df.VEL)]\n",
    "  return df\n"
   ]
  },
  {
   "cell_type": "markdown",
   "id": "00000014",
   "metadata": {},
   "source": [
    "\n",
    "## 主程式說明\n",
    "\n",
    "### 程式之執行\n",
    "- 此處按月執行。由於nc檔案時間展開後，檔案延長非常緩慢，拆分成主程式（`ptseE.py`）與輸出程式（`wrtE.py`）二段進行。\n",
    "\n",
    "\n"
   ]
  },
  {
   "cell_type": "code",
   "execution_count": 8,
   "id": "00000015",
   "metadata": {},
   "outputs": [],
   "source": [
    "for m in 0{1..9} 1{0..2};do python ptseE.py 19$m;done\n",
    "for m in 0{1..9} 1{0..2};do python wrtE.py 19$m;done\n"
   ]
  },
  {
   "cell_type": "markdown",
   "id": "00000016",
   "metadata": {},
   "source": [
    "\n",
    "### 程式基本定義、資料庫檔案QC、nc檔案之延展\n",
    "- 調用模組\n",
    "  - 因無另存處理過後的資料庫，因此程式還是會用到[ptse_sub](https://sinotec2.github.io/Focus-on-Air-Quality/EmisProc/ptse/ptse_sub/)中的副程式`CORRECT`, `add_PMS`, `check_nan`, `check_landsea`, `FillNan`, `WGS_TWD`, `Elev_YPM`\n",
    "\n",
    "   \n"
   ]
  },
  {
   "cell_type": "code",
   "execution_count": 1,
   "id": "00000017",
   "metadata": {},
   "outputs": [],
   "source": [
    "#kuang@node03 /nas1/TEDS/teds11/ptse\n",
    "#$ cat -n ptseE.py\n",
    "#! crding = utf8\n",
    "from pandas import *\n",
    "import numpy as np\n",
    "import os, sys, subprocess\n",
    "import netCDF4\n",
    "import twd97\n",
    "import datetime\n",
    "from calendar import monthrange\n",
    "from scipy.io import FortranFile\n",
    "from mostfreqword import mostfreqword\n",
    "from ptse_sub import CORRECT, add_PMS, check_nan, check_landsea, FillNan, WGS_TWD, Elev_YPM\n",
    "from ioapi_dates import jul2dt, dt2jul\n",
    "from cluster_xy import cluster_xy, XY_pivot\n"
   ]
  },
  {
   "cell_type": "markdown",
   "id": "00000018",
   "metadata": {},
   "source": [
    "- 程式相依性及年月定義(由引數)\n",
    "  - `pncgen`、`ncks`是在`wrtE.py`階段使用\n",
    "\n",
    "   \n"
   ]
  },
  {
   "cell_type": "code",
   "execution_count": 5,
   "id": "00000019",
   "metadata": {},
   "outputs": [],
   "source": [
    "#Main\n",
    "#locate the programs and root directory\n",
    "pncg=subprocess.check_output('which pncgen',shell=True).decode('utf8').strip('\\n')\n",
    "ncks=subprocess.check_output('which ncks',shell=True).decode('utf8').strip('\\n')\n",
    "hmp=subprocess.check_output('pwd',shell=True).decode('utf8').strip('\\n').split('/')[1]\n",
    "P='./'\n",
    "#time and space initiates\n",
    "ym='1901' #sys.argv[1]\n",
    "mm=ym[2:4]\n",
    "mo=int(mm)\n",
    "yr=2000+int(ym[:2]);TEDS='teds'+str(int((yr-2016)/3)+10)\n"
   ]
  },
  {
   "cell_type": "markdown",
   "id": "00000020",
   "metadata": {},
   "source": [
    "- 使用`Hs`進行篩選「高空」點源\n",
    "\n",
    "   \n"
   ]
  },
  {
   "cell_type": "code",
   "execution_count": 3,
   "id": "00000021",
   "metadata": {},
   "outputs": [],
   "source": [
    "Hs=10 #cutting height of stacks\n"
   ]
  },
  {
   "cell_type": "markdown",
   "id": "00000022",
   "metadata": {},
   "source": [
    "- 起迄日期、模擬範圍中心點位置\n",
    " \n",
    "   \n"
   ]
  },
  {
   "cell_type": "code",
   "execution_count": 4,
   "id": "00000023",
   "metadata": {},
   "outputs": [],
   "source": [
    "ntm=(monthrange(yr,mo)[1]+2)*24+1\n",
    "bdate=datetime.datetime(yr,mo,1)+datetime.timedelta(days=-1+8./24)\n",
    "edate=bdate+datetime.timedelta(days=ntm/24)#monthrange(yr,mo)[1]+3)\n",
    "Latitude_Pole, Longitude_Pole = 23.61000, 120.9900\n",
    "Xcent, Ycent = twd97.fromwgs84(Latitude_Pole, Longitude_Pole)\n"
   ]
  },
  {
   "cell_type": "markdown",
   "id": "00000024",
   "metadata": {},
   "source": [
    "- nc模版的應用與延展、注意`name`在新版`NCF`可能會被保留不能更改。(另在`CAMx`程式碼中處理)\n",
    "\n",
    "   \n"
   ]
  },
  {
   "cell_type": "code",
   "execution_count": 7,
   "id": "00000025",
   "metadata": {},
   "outputs": [
    {
     "name": "stdout",
     "output_type": "stream",
     "text": [
      "template applied\n"
     ]
    }
   ],
   "source": [
    "#prepare the uamiv template\n",
    "print('template applied')\n",
    "NCfname='fortBE.413_'+TEDS+'.ptsE'+mm+'.nc'\n",
    "try:\n",
    "  nc = netCDF4.Dataset(NCfname, 'r+')\n",
    "except:\n",
    "  os.system('cp '+P+'template_v7.nc '+NCfname)\n",
    "  nc = netCDF4.Dataset(NCfname, 'r+')\n",
    "V=[list(filter(lambda x:nc.variables[x].ndim==j, [i for i in nc.variables])) for j in [1,2,3,4]]\n",
    "nt,nv,dt=nc.variables[V[2][0]].shape\n",
    "nv=len([i for i in V[1] if i !='CP_NO'])\n",
    "nc.SDATE,nc.STIME=dt2jul(bdate)\n",
    "nc.EDATE,nc.ETIME=dt2jul(edate)\n",
    "nc.NOTE='Point Emission'\n",
    "nc.NOTE=nc.NOTE+(60-len(nc.NOTE))*' '\n",
    "nc.NVARS=nv\n",
    "#Name-names may encounter conflicts with newer versions of NCFs and PseudoNetCDFs.\n",
    "#nc.name='PTSOURCE  '\n",
    "nc.NSTEPS=ntm\n",
    "if 'ETFLAG' not in V[2]:\n",
    "  zz=nc.createVariable('ETFLAG',\"i4\",(\"TSTEP\",\"VAR\",\"DATE-TIME\"))\n",
    "if nt!=ntm or (nc.variables['TFLAG'][0,0,0]!=nc.SDATE and nc.variables['TFLAG'][0,0,1]!=nc.STIME):\n",
    "  for t in range(ntm):\n",
    "    sdate,stime=dt2jul(bdate+datetime.timedelta(days=t/24.))\n",
    "    nc.variables['TFLAG'][t,:,0]=[sdate for i in range(nv)]\n",
    "    nc.variables['TFLAG'][t,:,1]=[stime for i in range(nv)]\n",
    "    ndate,ntime=dt2jul(bdate+datetime.timedelta(days=(t+1)/24.))\n",
    "    nc.variables['ETFLAG'][t,:,0]=[ndate for i in range(nv)]\n",
    "    nc.variables['ETFLAG'][t,:,1]=[ntime for i in range(nv)]\n",
    "nc.close()\n",
    "#template OK\n"
   ]
  },
  {
   "cell_type": "markdown",
   "id": "00000026",
   "metadata": {},
   "source": [
    "- 污染物名稱對照、變數群組定義\n",
    "\n",
    "   \n"
   ]
  },
  {
   "cell_type": "code",
   "execution_count": 8,
   "id": "00000027",
   "metadata": {},
   "outputs": [],
   "source": [
    "#item sets definitions\n",
    "c2s={'NMHC':'NMHC','SOX':'SO2','NOX':'NO2','CO':'CO','PM':'PM'}\n",
    "c2m={'SOX':64,'NOX':46,'CO':28,'PM':1}\n",
    "cole=[i+'_EMI' for i in c2s]+['PM25_EMI']\n",
    "XYHDTV=['UTM_E','UTM_N','HEI','DIA','TEMP','VEL']\n",
    "colT=['HD1','DY1','HY1']\n",
    "colc=['CCRS','FCRS','CPRM','FPRM']\n"
   ]
  },
  {
   "cell_type": "markdown",
   "id": "00000028",
   "metadata": {},
   "source": [
    "- 讀取點源資料庫並進行品質管控。新版`coding`只接受`big5`\n",
    "\n",
    "   \n"
   ]
  },
  {
   "cell_type": "code",
   "execution_count": 67,
   "id": "00000029",
   "metadata": {},
   "outputs": [
    {
     "name": "stderr",
     "output_type": "stream",
     "text": [
      "/opt/miniconda3/envs/geocat/lib/python3.9/site-packages/IPython/core/interactiveshell.py:3444: DtypeWarning: Columns (54) have mixed types.Specify dtype option on import or set low_memory=False.\n",
      "  exec(code_obj, self.user_global_ns, self.user_ns)\n"
     ]
    },
    {
     "name": "stdout",
     "output_type": "stream",
     "text": [
      "set()\n",
      "TSP_EMI 0\n",
      "PM_EMI 0\n",
      "PM25_EMI 0\n",
      "SOX_EMI 0\n",
      "NOX_EMI 0\n",
      "THC_EMI 0\n",
      "NMHC_EMI 0\n",
      "CO_EMI 0\n",
      "PB_EMI 0\n"
     ]
    },
    {
     "name": "stderr",
     "output_type": "stream",
     "text": [
      "/nas1/TEDS/teds11/ptse/ptse_sub.py:9: SettingWithCopyWarning: \n",
      "A value is trying to be set on a copy of a slice from a DataFrame\n",
      "\n",
      "See the caveats in the documentation: https://pandas.pydata.org/pandas-docs/stable/user_guide/indexing.html#returning-a-view-versus-a-copy\n",
      "  if len(idx[0])>0:dia[idx[0]]=he[idx[0]]*0.05\n",
      "/nas1/TEDS/teds11/ptse/ptse_sub.py:14: SettingWithCopyWarning: \n",
      "A value is trying to be set on a copy of a slice from a DataFrame\n",
      "\n",
      "See the caveats in the documentation: https://pandas.pydata.org/pandas-docs/stable/user_guide/indexing.html#returning-a-view-versus-a-copy\n",
      "  tmp[idx[0]]=[t_intv[i] for i in he_i]\n"
     ]
    }
   ],
   "source": [
    "#Input the TEDS csv file\n",
    "try:\n",
    "  df = read_csv('point.csv', encoding='big5')\n",
    "except:\n",
    "  df = read_csv('point.csv')\n",
    "df = check_nan(df)\n",
    "df = check_landsea(df)\n",
    "df = WGS_TWD(df)\n",
    "df = Elev_YPM(df)\n",
    "#only P??? an re tak einto account\n",
    "boo=(df.HEI>=Hs) & (df.NO_S.map(lambda x:x[0]=='P'))\n",
    "df=df.loc[boo].reset_index(drop=True)\n",
    "#delete the zero emission sources\n",
    "df['SUM']=[i+j+k+l+m for i,j,k,l,m in zip(df.SOX_EMI,df.NOX_EMI,df.CO_EMI,df.PM_EMI,df.NMHC_EMI)]\n",
    "df=df.loc[df.SUM>0].reset_index(drop=True)\n",
    "df['DY1']=[i*j for i,j in zip(df.DW1,df.WY1)]\n",
    "df['HY1']=[i*j for i,j in zip(df.HD1,df.DY1)]\n",
    "df=CORRECT(df)\n",
    "df['CP_NO'] = [i + j for i, j in zip(list(df['C_NO']), list(df['NO_S']))]\n",
    "#\n"
   ]
  },
  {
   "cell_type": "markdown",
   "id": "00000030",
   "metadata": {},
   "source": [
    "- 座標轉換\n",
    "\n",
    "   \n"
   ]
  },
  {
   "cell_type": "code",
   "execution_count": 68,
   "id": "00000031",
   "metadata": {},
   "outputs": [],
   "source": [
    "#Coordinate translation\n",
    "df.UTM_E=df.UTM_E-Xcent\n",
    "df.UTM_N=df.UTM_N-Ycent\n",
    "df.SCC=[str(int(i)) for i in df.SCC]\n",
    "df.loc[df.SCC=='0','SCC']='0'*10\n"
   ]
  },
  {
   "cell_type": "markdown",
   "id": "00000032",
   "metadata": {},
   "source": [
    "- 對**管煙**編號進行資料庫重整\n",
    "  - 3類不同屬性欄位適用不同的`aggfunc`\n",
    "    - 排放量(`col_em`)：加總\n",
    "    - 煙道高度(`col_mx`)：最大值\n",
    "    - 煙道其他參數(`col_mn`)：平均\n",
    "\n",
    "   \n"
   ]
  },
  {
   "cell_type": "code",
   "execution_count": 69,
   "id": "00000033",
   "metadata": {},
   "outputs": [
    {
     "data": {
      "text/html": [
       "<div>\n",
       "<style scoped>\n",
       "    .dataframe tbody tr th:only-of-type {\n",
       "        vertical-align: middle;\n",
       "    }\n",
       "\n",
       "    .dataframe tbody tr th {\n",
       "        vertical-align: top;\n",
       "    }\n",
       "\n",
       "    .dataframe thead th {\n",
       "        text-align: right;\n",
       "    }\n",
       "</style>\n",
       "<table border=\"1\" class=\"dataframe\">\n",
       "  <thead>\n",
       "    <tr style=\"text-align: right;\">\n",
       "      <th></th>\n",
       "      <th>CP_NO</th>\n",
       "      <th>CO_EMI</th>\n",
       "      <th>NMHC_EMI</th>\n",
       "      <th>NOX_EMI</th>\n",
       "      <th>ORI_QU1</th>\n",
       "      <th>PM25_EMI</th>\n",
       "      <th>PM_EMI</th>\n",
       "      <th>SOX_EMI</th>\n",
       "      <th>DIA</th>\n",
       "      <th>DY1</th>\n",
       "      <th>HD1</th>\n",
       "      <th>HEI</th>\n",
       "      <th>HY1</th>\n",
       "      <th>TEMP</th>\n",
       "      <th>UTM_E</th>\n",
       "      <th>UTM_N</th>\n",
       "      <th>VEL</th>\n",
       "      <th>SCC</th>\n",
       "    </tr>\n",
       "  </thead>\n",
       "  <tbody>\n",
       "    <tr>\n",
       "      <th>0</th>\n",
       "      <td>A3400047P002</td>\n",
       "      <td>0.740</td>\n",
       "      <td>0.0</td>\n",
       "      <td>1.119</td>\n",
       "      <td>189.2</td>\n",
       "      <td>0.023</td>\n",
       "      <td>0.025</td>\n",
       "      <td>0.000</td>\n",
       "      <td>1.10</td>\n",
       "      <td>364.0</td>\n",
       "      <td>15.0</td>\n",
       "      <td>51.0</td>\n",
       "      <td>5460.0</td>\n",
       "      <td>202.0</td>\n",
       "      <td>54060.527015</td>\n",
       "      <td>154494.049724</td>\n",
       "      <td>9.1</td>\n",
       "      <td>10200602</td>\n",
       "    </tr>\n",
       "    <tr>\n",
       "      <th>1</th>\n",
       "      <td>A3400109P001</td>\n",
       "      <td>0.318</td>\n",
       "      <td>0.0</td>\n",
       "      <td>0.377</td>\n",
       "      <td>30.0</td>\n",
       "      <td>0.010</td>\n",
       "      <td>0.010</td>\n",
       "      <td>0.000</td>\n",
       "      <td>0.95</td>\n",
       "      <td>364.0</td>\n",
       "      <td>24.0</td>\n",
       "      <td>35.0</td>\n",
       "      <td>8736.0</td>\n",
       "      <td>120.0</td>\n",
       "      <td>54325.725374</td>\n",
       "      <td>154014.654113</td>\n",
       "      <td>7.3</td>\n",
       "      <td>10200602</td>\n",
       "    </tr>\n",
       "    <tr>\n",
       "      <th>2</th>\n",
       "      <td>A3400118P001</td>\n",
       "      <td>0.082</td>\n",
       "      <td>0.0</td>\n",
       "      <td>0.097</td>\n",
       "      <td>30.0</td>\n",
       "      <td>0.003</td>\n",
       "      <td>0.003</td>\n",
       "      <td>0.000</td>\n",
       "      <td>0.50</td>\n",
       "      <td>364.0</td>\n",
       "      <td>24.0</td>\n",
       "      <td>53.0</td>\n",
       "      <td>8736.0</td>\n",
       "      <td>150.0</td>\n",
       "      <td>54179.197179</td>\n",
       "      <td>155026.404876</td>\n",
       "      <td>9.1</td>\n",
       "      <td>10200603</td>\n",
       "    </tr>\n",
       "    <tr>\n",
       "      <th>3</th>\n",
       "      <td>A3400172P001</td>\n",
       "      <td>0.727</td>\n",
       "      <td>0.0</td>\n",
       "      <td>0.839</td>\n",
       "      <td>3.0</td>\n",
       "      <td>0.023</td>\n",
       "      <td>0.024</td>\n",
       "      <td>0.000</td>\n",
       "      <td>0.46</td>\n",
       "      <td>364.0</td>\n",
       "      <td>24.0</td>\n",
       "      <td>76.0</td>\n",
       "      <td>8736.0</td>\n",
       "      <td>150.0</td>\n",
       "      <td>54200.082535</td>\n",
       "      <td>155161.330165</td>\n",
       "      <td>9.1</td>\n",
       "      <td>10200602</td>\n",
       "    </tr>\n",
       "    <tr>\n",
       "      <th>4</th>\n",
       "      <td>A34A1392P001</td>\n",
       "      <td>0.249</td>\n",
       "      <td>0.0</td>\n",
       "      <td>0.557</td>\n",
       "      <td>45.0</td>\n",
       "      <td>0.024</td>\n",
       "      <td>0.025</td>\n",
       "      <td>0.031</td>\n",
       "      <td>0.92</td>\n",
       "      <td>364.0</td>\n",
       "      <td>24.0</td>\n",
       "      <td>57.0</td>\n",
       "      <td>8736.0</td>\n",
       "      <td>150.0</td>\n",
       "      <td>54383.208009</td>\n",
       "      <td>154491.108945</td>\n",
       "      <td>9.1</td>\n",
       "      <td>10200602</td>\n",
       "    </tr>\n",
       "  </tbody>\n",
       "</table>\n",
       "</div>"
      ],
      "text/plain": [
       "          CP_NO  CO_EMI  NMHC_EMI  NOX_EMI  ORI_QU1  PM25_EMI  PM_EMI  \\\n",
       "0  A3400047P002   0.740       0.0    1.119    189.2     0.023   0.025   \n",
       "1  A3400109P001   0.318       0.0    0.377     30.0     0.010   0.010   \n",
       "2  A3400118P001   0.082       0.0    0.097     30.0     0.003   0.003   \n",
       "3  A3400172P001   0.727       0.0    0.839      3.0     0.023   0.024   \n",
       "4  A34A1392P001   0.249       0.0    0.557     45.0     0.024   0.025   \n",
       "\n",
       "   SOX_EMI   DIA    DY1   HD1   HEI     HY1   TEMP         UTM_E  \\\n",
       "0    0.000  1.10  364.0  15.0  51.0  5460.0  202.0  54060.527015   \n",
       "1    0.000  0.95  364.0  24.0  35.0  8736.0  120.0  54325.725374   \n",
       "2    0.000  0.50  364.0  24.0  53.0  8736.0  150.0  54179.197179   \n",
       "3    0.000  0.46  364.0  24.0  76.0  8736.0  150.0  54200.082535   \n",
       "4    0.031  0.92  364.0  24.0  57.0  8736.0  150.0  54383.208009   \n",
       "\n",
       "           UTM_N  VEL       SCC  \n",
       "0  154494.049724  9.1  10200602  \n",
       "1  154014.654113  7.3  10200602  \n",
       "2  155026.404876  9.1  10200603  \n",
       "3  155161.330165  9.1  10200602  \n",
       "4  154491.108945  9.1  10200602  "
      ]
     },
     "execution_count": 69,
     "metadata": {},
     "output_type": "execute_result"
    }
   ],
   "source": [
    "#pivot table along the dimension of NO_S (P???)\n",
    "df_cp=pivot_table(df,index='CP_NO',values=cole+['ORI_QU1'],aggfunc=sum).reset_index()\n",
    "df_xy=pivot_table(df,index='CP_NO',values=XYHDTV+colT,aggfunc=np.mean).reset_index()\n",
    "df_sc=pivot_table(df,index='CP_NO',values='SCC', aggfunc=mostfreqword).reset_index()\n",
    "df1=merge(df_cp,df_xy,on='CP_NO')\n",
    "df=merge(df1,df_sc,on='CP_NO')\n",
    "df.head()#debugging"
   ]
  },
  {
   "cell_type": "markdown",
   "id": "00000034",
   "metadata": {},
   "source": [
    "- 排放量單位轉換\n",
    "  - 因小時數在`ons`中已經應用了(個別煙道加總為1.)，因此只需考量重量之轉換即可。\n",
    "  - 留下之前計算版本，以供對照\n",
    "\n",
    "   \n"
   ]
  },
  {
   "cell_type": "code",
   "execution_count": 70,
   "id": "00000035",
   "metadata": {},
   "outputs": [],
   "source": [
    "#T/year to g/hour\n",
    "for c in cole:\n",
    "  df[c]=[i*1E6 for i in df[c]]\n",
    "#  df[c]=[i*1E6/j/k for i,j,k in zip(df[c],df.DY1,df.HD1)]\n"
   ]
  },
  {
   "cell_type": "markdown",
   "id": "00000036",
   "metadata": {},
   "source": [
    "- CAMx版本差異在此選擇\n",
    "  - 6~7版的差異可以參考[CMAQ/CAMx排放量檔案之轉換](http://www.evernote.com/l/AH1z_n2U--lM-poNlQnghsjFBfDEY6FalgM/)，\n",
    "  - 如要做不同版本，應重新準備模版階段\n",
    "\n",
    "   \n"
   ]
  },
  {
   "cell_type": "code",
   "execution_count": 16,
   "id": "00000037",
   "metadata": {},
   "outputs": [
    {
     "name": "stdout",
     "output_type": "stream",
     "text": [
      "NMHC/PM splitting and expanding\n"
     ]
    }
   ],
   "source": [
    "#determination of camx version\n",
    "ver=7\n",
    "if 'XSTK' in V[0]:ver=6\n",
    "print('NMHC/PM splitting and expanding')\n"
   ]
  },
  {
   "cell_type": "markdown",
   "id": "00000038",
   "metadata": {},
   "source": [
    "\n",
    "### VOCs與PM的劃分\n",
    "- 讀取profile number、preference table\n",
    "\n",
    "   \n"
   ]
  },
  {
   "cell_type": "code",
   "execution_count": 17,
   "id": "00000039",
   "metadata": {},
   "outputs": [
    {
     "name": "stdout",
     "output_type": "stream",
     "text": [
      "NMHC/PM splitting and expanding\n"
     ]
    },
    {
     "data": {
      "text/html": [
       "<div>\n",
       "<style scoped>\n",
       "    .dataframe tbody tr th:only-of-type {\n",
       "        vertical-align: middle;\n",
       "    }\n",
       "\n",
       "    .dataframe tbody tr th {\n",
       "        vertical-align: top;\n",
       "    }\n",
       "\n",
       "    .dataframe thead th {\n",
       "        text-align: right;\n",
       "    }\n",
       "</style>\n",
       "<table border=\"1\" class=\"dataframe\">\n",
       "  <thead>\n",
       "    <tr style=\"text-align: right;\">\n",
       "      <th></th>\n",
       "      <th>Speciation_profile_number</th>\n",
       "      <th>Pollutant_ID</th>\n",
       "      <th>Species_ID</th>\n",
       "      <th>Split_factor</th>\n",
       "      <th>Divisor</th>\n",
       "      <th>Mass_Fraction</th>\n",
       "    </tr>\n",
       "  </thead>\n",
       "  <tbody>\n",
       "    <tr>\n",
       "      <th>0</th>\n",
       "      <td>B09C4</td>\n",
       "      <td>ISOP</td>\n",
       "      <td>ISOP</td>\n",
       "      <td>1.0</td>\n",
       "      <td>60.0</td>\n",
       "      <td>1.1333</td>\n",
       "    </tr>\n",
       "    <tr>\n",
       "      <th>1</th>\n",
       "      <td>B09C4</td>\n",
       "      <td>MONO</td>\n",
       "      <td>TERPB</td>\n",
       "      <td>1.0</td>\n",
       "      <td>120.0</td>\n",
       "      <td>1.1333</td>\n",
       "    </tr>\n",
       "    <tr>\n",
       "      <th>2</th>\n",
       "      <td>B09C4</td>\n",
       "      <td>MONO</td>\n",
       "      <td>OLE</td>\n",
       "      <td>0.5</td>\n",
       "      <td>120.0</td>\n",
       "      <td>0.1133</td>\n",
       "    </tr>\n",
       "    <tr>\n",
       "      <th>3</th>\n",
       "      <td>B09C4</td>\n",
       "      <td>MONO</td>\n",
       "      <td>PAR</td>\n",
       "      <td>6.0</td>\n",
       "      <td>120.0</td>\n",
       "      <td>0.6800</td>\n",
       "    </tr>\n",
       "    <tr>\n",
       "      <th>4</th>\n",
       "      <td>B09C4</td>\n",
       "      <td>MONO</td>\n",
       "      <td>ALD2</td>\n",
       "      <td>1.5</td>\n",
       "      <td>120.0</td>\n",
       "      <td>0.3400</td>\n",
       "    </tr>\n",
       "  </tbody>\n",
       "</table>\n",
       "</div>"
      ],
      "text/plain": [
       "  Speciation_profile_number Pollutant_ID Species_ID  Split_factor  Divisor  \\\n",
       "0                     B09C4         ISOP       ISOP           1.0     60.0   \n",
       "1                     B09C4         MONO      TERPB           1.0    120.0   \n",
       "2                     B09C4         MONO        OLE           0.5    120.0   \n",
       "3                     B09C4         MONO        PAR           6.0    120.0   \n",
       "4                     B09C4         MONO       ALD2           1.5    120.0   \n",
       "\n",
       "   Mass_Fraction  \n",
       "0         1.1333  \n",
       "1         1.1333  \n",
       "2         0.1133  \n",
       "3         0.6800  \n",
       "4         0.3400  "
      ]
     },
     "execution_count": 17,
     "metadata": {},
     "output_type": "execute_result"
    }
   ],
   "source": [
    "print('NMHC/PM splitting and expanding')\n",
    "#prepare the profile and CBMs\n",
    "fname='/'+hmp+'/SMOKE4.5/data/ge_dat/gsref.cmaq_cb05_soa.txt'\n",
    "gsref=read_csv(fname,delimiter=';',header=None)\n",
    "col='SCC Speciation_profile_number Pollutant_ID'.split()+['C'+str(i) for i in range(3,10)]\n",
    "gsref.columns=col\n",
    "for c in col[3:]:\n",
    "  del gsref[c]\n",
    "fname='/'+hmp+'/SMOKE4.5/data/ge_dat/gspro.cmaq_cb05_soa.txt'\n",
    "gspro=read_csv(fname,delimiter=';',header=None)\n",
    "col=['Speciation_profile_number','Pollutant_ID','Species_ID','Split_factor','Divisor','Mass_Fraction']\n",
    "gspro.columns=col\n",
    "gspro.head() #debugging"
   ]
  },
  {
   "cell_type": "markdown",
   "id": "00000040",
   "metadata": {},
   "source": [
    "- 自從TEDS9之後，國內新增(或修正)很多資料庫中沒有的SCC。此處以對照既有SCC碼簡單處理。\n",
    "  - 對照方式：網站上找到最新的SCC資料庫，找到新SCC的製程類別特性\n",
    "  - 找到既有SCC profile number資料表中，前幾碼(4~6)相同的SCC，如果類似就指定取代\n",
    "  - 如果真的找不到，也只能找數字最接近的取代\n",
    "\n",
    "   \n"
   ]
  },
  {
   "cell_type": "code",
   "execution_count": 71,
   "id": "00000041",
   "metadata": {},
   "outputs": [],
   "source": [
    "#new SCC since TEDS9,erase and substude\n",
    "sccMap={\n",
    "'30111103':'30111199', #not in df_scc2\n",
    "'30112401':'30112403', #Industrial Processes  Chemical Manufacturing  Chloroprene Chlorination Reactor\n",
    "'30115606':'30115607',#Industrial Processes  Chemical Manufacturing  Cumene  Aluminum Chloride Catalyst Process: DIPB Strip\n",
    "'30118110':'30118109',#Industrial Processes  Chemical Manufacturing  Toluene Diisocyanate  Residue Vacuum Distillation\n",
    "'30120554':'30120553', #not known, 548~  Propylene Oxide Mixed Hydrocarbon Wash-Decant System Vent\n",
    "'30117410':'30117421',\n",
    "'30117411':'30117421',\n",
    "'30117614':'30117612',\n",
    "'30121125':'30121104',\n",
    "'30201111':'30201121',\n",
    "'30300508':'30300615',\n",
    "'30301024':'30301014',\n",
    "'30400213':'30400237',\n",
    "'30120543':'30120502',\n",
    "'40300215':'40300212'} #not known\n",
    "for s in sccMap:\n",
    "  df.loc[df.SCC==s,'SCC']=sccMap[s]   \n"
   ]
  },
  {
   "cell_type": "markdown",
   "id": "00000042",
   "metadata": {},
   "source": [
    "- 只篩選有關的SCC以縮減資料庫長度、提升對照速度\n",
    "  - 因有些profile number含有英文字，在此先做整理，以使格式一致\n",
    "\n",
    "   \n"
   ]
  },
  {
   "cell_type": "code",
   "execution_count": 20,
   "id": "00000043",
   "metadata": {},
   "outputs": [
    {
     "data": {
      "text/plain": [
       "{'ALD2',\n",
       " 'ALDX',\n",
       " 'BENZ',\n",
       " 'CH4',\n",
       " 'CL2',\n",
       " 'CO',\n",
       " 'CPRM',\n",
       " 'ETH',\n",
       " 'ETHA',\n",
       " 'ETOH',\n",
       " 'FORM',\n",
       " 'FPRM',\n",
       " 'HCL',\n",
       " 'HFLUX',\n",
       " 'HGIIGAS',\n",
       " 'HGNRVA',\n",
       " 'IOLE',\n",
       " 'ISOP',\n",
       " 'MEOH',\n",
       " 'NH3',\n",
       " 'NO',\n",
       " 'NOX',\n",
       " 'NR',\n",
       " 'OLE',\n",
       " 'PAR',\n",
       " 'PEC',\n",
       " 'PHGI',\n",
       " 'PNO3',\n",
       " 'POA',\n",
       " 'PSO4',\n",
       " 'SO2',\n",
       " 'SULF',\n",
       " 'TERP',\n",
       " 'TOL',\n",
       " 'UNR',\n",
       " 'XYL'}"
      ]
     },
     "execution_count": 20,
     "metadata": {},
     "output_type": "execute_result"
    }
   ],
   "source": [
    "#reduce gsref and gspro\n",
    "dfV=df.loc[df.NMHC_EMI>0].reset_index(drop=True)\n",
    "gsrefV=gsref.loc[gsref.SCC.map(lambda x:x in set(dfV.SCC))].reset_index(drop=True)\n",
    "prof_alph=set([i for i in set(gsrefV.Speciation_profile_number) if i.isalpha()])\n",
    "gsrefV=gsrefV.loc[gsrefV.Speciation_profile_number.map(lambda x:x not in prof_alph)].reset_index(drop=True)\n",
    "gsproV=gspro.loc[gspro.Speciation_profile_number.map(lambda x:x in set(gsrefV.Speciation_profile_number))].reset_index(drop=True)\n",
    "set(gsproV.Species_ID) #debugging"
   ]
  },
  {
   "cell_type": "markdown",
   "id": "00000044",
   "metadata": {},
   "source": [
    "- 只篩選有關的profile number且污染物含有`TOG`者\n",
    "\n",
    "   \n"
   ]
  },
  {
   "cell_type": "code",
   "execution_count": 21,
   "id": "00000045",
   "metadata": {},
   "outputs": [
    {
     "data": {
      "text/plain": [
       "{'ALD2',\n",
       " 'ALDX',\n",
       " 'BENZ',\n",
       " 'CH4',\n",
       " 'ETH',\n",
       " 'ETHA',\n",
       " 'ETOH',\n",
       " 'FORM',\n",
       " 'IOLE',\n",
       " 'ISOP',\n",
       " 'MEOH',\n",
       " 'OLE',\n",
       " 'PAR',\n",
       " 'POA',\n",
       " 'TERP',\n",
       " 'TOL',\n",
       " 'UNR',\n",
       " 'XYL'}"
      ]
     },
     "execution_count": 21,
     "metadata": {},
     "output_type": "execute_result"
    }
   ],
   "source": [
    "pp=[]\n",
    "for p in set(gspro.Speciation_profile_number):\n",
    "  a=gsproV.loc[gsproV.Speciation_profile_number==p]\n",
    "  if 'TOG' not in set(a.Pollutant_ID):pp.append(p)\n",
    "boo=(gspro.Speciation_profile_number.map(lambda x:x not in pp)) & (gspro.Pollutant_ID=='TOG')\n",
    "gsproV=gspro.loc[boo].reset_index(drop=True)\n",
    "set(gsproV.Species_ID) #debugging"
   ]
  },
  {
   "cell_type": "markdown",
   "id": "00000046",
   "metadata": {},
   "source": [
    "- 準備乘數矩陣，其大小為`(SCC總數,CBM物質項目總數)`\n",
    "\n",
    "   \n"
   ]
  },
  {
   "cell_type": "code",
   "execution_count": 22,
   "id": "00000047",
   "metadata": {},
   "outputs": [],
   "source": [
    "cbm=list(set([i for i in set(gsproV.Species_ID) if i in V[1]]))\n",
    "idx=gsproV.loc[gsproV.Species_ID.map(lambda x:x in cbm)].index\n",
    "sccV=list(set(dfV.SCC))\n",
    "sccV.sort()\n",
    "nscc=len(sccV)\n",
    "prod=np.zeros(shape=(nscc,len(cbm)))\n"
   ]
  },
  {
   "cell_type": "markdown",
   "id": "00000048",
   "metadata": {},
   "source": [
    "- 對得到SCC，但是資料庫中卻沒有`TOG`也沒有`VOC`。記下、執行下個SCC\n",
    "\n",
    "   \n"
   ]
  },
  {
   "cell_type": "code",
   "execution_count": 24,
   "id": "00000049",
   "metadata": {},
   "outputs": [
    {
     "data": {
      "text/plain": [
       "(1, ['10301303'])"
      ]
     },
     "execution_count": 24,
     "metadata": {},
     "output_type": "execute_result"
    }
   ],
   "source": [
    "#dfV but with PM scc(no TOG/VOC in gspro), modify those SCC to '0'*10 in dfV, drop the pro_no in gsproV\n",
    "noTOG_scc=[]\n",
    "for i in range(nscc):\n",
    "  s=sccV[i]\n",
    "  p=list(gsrefV.loc[gsrefV.SCC==s,'Speciation_profile_number'])[0]\n",
    "  a=gsproV.loc[gsproV.Speciation_profile_number==p]\n",
    "  if 'TOG' not in set(a.Pollutant_ID) and 'VOC' not in set(a.Pollutant_ID):\n",
    "    noTOG_scc.append(s)\n",
    "    continue\n",
    "len(noTOG_scc),noTOG_scc[:5] #debugging"
   ]
  },
  {
   "cell_type": "markdown",
   "id": "00000050",
   "metadata": {},
   "source": [
    "- 找到對應的profile number，將分率存入乘數矩陣`prod`\n",
    "\n",
    "   \n"
   ]
  },
  {
   "cell_type": "code",
   "execution_count": 29,
   "id": "00000051",
   "metadata": {},
   "outputs": [
    {
     "name": "stdout",
     "output_type": "stream",
     "text": [
      "10100601\n",
      "[('FORM', 0.0), ('TOL', 0.0), ('ETHA', 0.003591739000299312), ('TERP', 0.0), ('ETH', 0.01240500192491409), ('ALD2', 0.0), ('OLE', 0.0004752826771990361), ('MEOH', 0.0), ('BENZ', 0.00394306622046861), ('XYL', 0.0), ('ETOH', 0.0), ('ISOP', 0.0), ('ALDX', 0.0), ('POA', 0.0), ('IOLE', 0.0), ('PAR', 0.004418340684538093)]\n"
     ]
    }
   ],
   "source": [
    "for i in range(nscc):\n",
    "  if 'TOG' not in set(a.Pollutant_ID) and 'VOC' not in set(a.Pollutant_ID): continue\n",
    "  boo=(gsproV.Speciation_profile_number==p) & (gsproV.Pollutant_ID=='TOG')\n",
    "  a=gsproV.loc[boo]\n",
    "  for c in a.Species_ID:\n",
    "    if c not in cbm:continue\n",
    "    j=cbm.index(c)\n",
    "    f=a.loc[a.Species_ID==c,'Mass_Fraction']\n",
    "    d=a.loc[a.Species_ID==c,'Divisor']\n",
    "    prod[i,j]+=f/d\n",
    "print(sccV[5])\n",
    "print([(cbm[i],prod[5,i]) for i in range(len(cbm))]) #debugging"
   ]
  },
  {
   "cell_type": "markdown",
   "id": "00000052",
   "metadata": {},
   "source": [
    "- `NMHC_EMI`排放量乘上乘數矩陣，形成`CBM`排放量\n",
    "\n",
    "   \n"
   ]
  },
  {
   "cell_type": "code",
   "execution_count": 72,
   "id": "00000053",
   "metadata": {},
   "outputs": [
    {
     "data": {
      "text/html": [
       "<div>\n",
       "<style scoped>\n",
       "    .dataframe tbody tr th:only-of-type {\n",
       "        vertical-align: middle;\n",
       "    }\n",
       "\n",
       "    .dataframe tbody tr th {\n",
       "        vertical-align: top;\n",
       "    }\n",
       "\n",
       "    .dataframe thead th {\n",
       "        text-align: right;\n",
       "    }\n",
       "</style>\n",
       "<table border=\"1\" class=\"dataframe\">\n",
       "  <thead>\n",
       "    <tr style=\"text-align: right;\">\n",
       "      <th></th>\n",
       "      <th>CP_NO</th>\n",
       "      <th>CO_EMI</th>\n",
       "      <th>NMHC_EMI</th>\n",
       "      <th>NOX_EMI</th>\n",
       "      <th>ORI_QU1</th>\n",
       "      <th>PM25_EMI</th>\n",
       "      <th>PM_EMI</th>\n",
       "      <th>SOX_EMI</th>\n",
       "      <th>DIA</th>\n",
       "      <th>DY1</th>\n",
       "      <th>...</th>\n",
       "      <th>OLE</th>\n",
       "      <th>MEOH</th>\n",
       "      <th>BENZ</th>\n",
       "      <th>XYL</th>\n",
       "      <th>ETOH</th>\n",
       "      <th>ISOP</th>\n",
       "      <th>ALDX</th>\n",
       "      <th>POA</th>\n",
       "      <th>IOLE</th>\n",
       "      <th>PAR</th>\n",
       "    </tr>\n",
       "  </thead>\n",
       "  <tbody>\n",
       "    <tr>\n",
       "      <th>12354</th>\n",
       "      <td>L9202099P204</td>\n",
       "      <td>1000.0</td>\n",
       "      <td>1000.0</td>\n",
       "      <td>1000.0</td>\n",
       "      <td>15.0</td>\n",
       "      <td>0.0</td>\n",
       "      <td>0.0</td>\n",
       "      <td>0.0</td>\n",
       "      <td>0.7</td>\n",
       "      <td>357.0</td>\n",
       "      <td>...</td>\n",
       "      <td>0.475283</td>\n",
       "      <td>0.0</td>\n",
       "      <td>3.943066</td>\n",
       "      <td>0.0</td>\n",
       "      <td>0.0</td>\n",
       "      <td>0.0</td>\n",
       "      <td>0.0</td>\n",
       "      <td>0.0</td>\n",
       "      <td>0.0</td>\n",
       "      <td>4.418341</td>\n",
       "    </tr>\n",
       "    <tr>\n",
       "      <th>12355</th>\n",
       "      <td>L9202099P205</td>\n",
       "      <td>1000.0</td>\n",
       "      <td>1000.0</td>\n",
       "      <td>1000.0</td>\n",
       "      <td>15.0</td>\n",
       "      <td>0.0</td>\n",
       "      <td>0.0</td>\n",
       "      <td>0.0</td>\n",
       "      <td>0.7</td>\n",
       "      <td>357.0</td>\n",
       "      <td>...</td>\n",
       "      <td>0.475283</td>\n",
       "      <td>0.0</td>\n",
       "      <td>3.943066</td>\n",
       "      <td>0.0</td>\n",
       "      <td>0.0</td>\n",
       "      <td>0.0</td>\n",
       "      <td>0.0</td>\n",
       "      <td>0.0</td>\n",
       "      <td>0.0</td>\n",
       "      <td>4.418341</td>\n",
       "    </tr>\n",
       "  </tbody>\n",
       "</table>\n",
       "<p>2 rows × 34 columns</p>\n",
       "</div>"
      ],
      "text/plain": [
       "              CP_NO  CO_EMI  NMHC_EMI  NOX_EMI  ORI_QU1  PM25_EMI  PM_EMI  \\\n",
       "12354  L9202099P204  1000.0    1000.0   1000.0     15.0       0.0     0.0   \n",
       "12355  L9202099P205  1000.0    1000.0   1000.0     15.0       0.0     0.0   \n",
       "\n",
       "       SOX_EMI  DIA    DY1  ...       OLE  MEOH      BENZ  XYL  ETOH  ISOP  \\\n",
       "12354      0.0  0.7  357.0  ...  0.475283   0.0  3.943066  0.0   0.0   0.0   \n",
       "12355      0.0  0.7  357.0  ...  0.475283   0.0  3.943066  0.0   0.0   0.0   \n",
       "\n",
       "       ALDX  POA  IOLE       PAR  \n",
       "12354   0.0  0.0   0.0  4.418341  \n",
       "12355   0.0  0.0   0.0  4.418341  \n",
       "\n",
       "[2 rows x 34 columns]"
      ]
     },
     "execution_count": 72,
     "metadata": {},
     "output_type": "execute_result"
    }
   ],
   "source": [
    "df.loc[df.SCC.map(lambda x:x in noTOG_scc),'SCC']='0'*10\n",
    "for c in cbm:\n",
    "  df[c]=0.\n",
    "for s in set(dfV.SCC):\n",
    "  i=sccV.index(s)\n",
    "  idx=df.loc[df.SCC==s].index\n",
    "  for c in cbm:\n",
    "    j=cbm.index(c)\n",
    "    df.loc[idx,c]=[prod[i,j]*k for k in df.loc[idx,'NMHC_EMI']]\n",
    "df.loc[(df.SCC==sccV[5])&(df.NMHC_EMI>0)].head() #debugging"
   ]
  },
  {
   "cell_type": "markdown",
   "id": "00000054",
   "metadata": {},
   "source": [
    "- PM的劃分，詳見[ptse_sub](https://sinotec2.github.io/Focus-on-Air-Quality/EmisProc/ptse/ptse_sub/#%E7%B0%A1%E5%96%AE%E7%9A%84pm%E5%8A%83%E5%88%86%E5%89%AF%E7%A8%8B%E5%BC%8F)\n",
    "\n",
    "   \n"
   ]
  },
  {
   "cell_type": "code",
   "execution_count": 74,
   "id": "00000055",
   "metadata": {},
   "outputs": [
    {
     "data": {
      "text/plain": [
       "CP_NO        A3400047P002\n",
       "CO_EMI           740000.0\n",
       "NMHC_EMI              0.0\n",
       "NOX_EMI         1119000.0\n",
       "ORI_QU1             189.2\n",
       "PM25_EMI          23000.0\n",
       "PM_EMI            25000.0\n",
       "SOX_EMI               0.0\n",
       "DIA                   1.1\n",
       "DY1                 364.0\n",
       "HD1                  15.0\n",
       "HEI                  51.0\n",
       "HY1                5460.0\n",
       "TEMP                202.0\n",
       "UTM_E        54060.527015\n",
       "UTM_N       154494.049724\n",
       "VEL                   9.1\n",
       "SCC              10200602\n",
       "FORM                  0.0\n",
       "TOL                   0.0\n",
       "ETHA                  0.0\n",
       "TERP                  0.0\n",
       "ETH                   0.0\n",
       "ALD2                  0.0\n",
       "OLE                   0.0\n",
       "MEOH                  0.0\n",
       "BENZ                  0.0\n",
       "XYL                   0.0\n",
       "ETOH                  0.0\n",
       "ISOP                  0.0\n",
       "ALDX                  0.0\n",
       "POA                   0.0\n",
       "IOLE                  0.0\n",
       "PAR                   0.0\n",
       "CCRS                  0.0\n",
       "FCRS                  0.0\n",
       "CPRM               2000.0\n",
       "FPRM              23000.0\n",
       "Name: 0, dtype: object"
      ]
     },
     "execution_count": 74,
     "metadata": {},
     "output_type": "execute_result"
    }
   ],
   "source": [
    "#PM splitting\n",
    "df=add_PMS(df)\n",
    "df.loc[0]"
   ]
  },
  {
   "cell_type": "markdown",
   "id": "00000056",
   "metadata": {},
   "source": [
    "\n",
    "### 年均排放量乘上時變係數\n",
    "- **時變係數**檔案，因筆數與不同的定義高度有關，須先執行後，將檔名寫在程式內。\n",
    "  - 此處的`fns0`\\~`fns30`分別是高度0\\~30所對應的**時變係數**檔案\n",
    "  - 好處是：如此可以將對照關係記錄下來\n",
    "  - 壞處是：必須手動修改程式碼、每版teds的檔案名稱會不一樣\n",
    "\n",
    "   \n"
   ]
  },
  {
   "cell_type": "code",
   "execution_count": 35,
   "id": "00000057",
   "metadata": {},
   "outputs": [],
   "source": [
    "#pivot along the axis of XY coordinates\n",
    "#def. of columns and dicts\n",
    "fns0={\n",
    "'CO'  :'CO_ECP7496_MDH8760_ONS.bin',\n",
    "'NMHC':'NMHC_ECP2697_MDH8760_ONS.bin',\n",
    "'NOX' :'NOX_ECP13706_MDH8760_ONS.bin',\n",
    "'PM'  :'PM_ECP17835_MDH8760_ONS.bin',\n",
    "'SOX' :'SOX_ECP8501_MDH8760_ONS.bin'}\n",
    "fns10={\n",
    "'CO'  :'CO_ECP4919_MDH8784_ONS.bin',\n",
    "'NMHC':'NMHC_ECP3549_MDH8784_ONS.bin',\n",
    "'NOX' :'NOX_ECP9598_MDH8784_ONS.bin',\n",
    "'PM'  :'PM_ECP11052_MDH8784_ONS.bin',\n",
    "'SOX' :'SOX_ECP7044_MDH8784_ONS.bin'}\n",
    "fns30={\n",
    "'CO'  :'CO_ECP1077_MDH8784_ONS.bin',\n",
    "'NMHC':'NMHC_ECP1034_MDH8784_ONS.bin',\n",
    "'NOX' :'NOX_ECP1905_MDH8784_ONS.bin',\n",
    "'PM'  :'PM_ECP2155_MDH8784_ONS.bin',\n",
    "'SOX' :'SOX_ECP1468_MDH8784_ONS.bin'}\n",
    "F={0:fns0,10:fns10,30:fns30}\n",
    "fns=F[Hs]\n"
   ]
  },
  {
   "cell_type": "markdown",
   "id": "00000058",
   "metadata": {},
   "source": [
    "- 排放名稱與空品名稱對照表、排放名稱與分子量對照表\n",
    "\n",
    "   \n"
   ]
  },
  {
   "cell_type": "code",
   "execution_count": 75,
   "id": "00000059",
   "metadata": {},
   "outputs": [],
   "source": [
    "cols={i:[c2s[i]] for i in c2s}\n",
    "cols.update({'NMHC':cbm,'PM':colc})\n",
    "colp={c2s[i]:i+'_EMI' for i in fns}\n",
    "colp.update({i:i for i in cbm+colc})\n",
    "lspec=[i for i in list(colp) if i not in ['NMHC','PM']]\n",
    "c2m={i:1 for i in colp}\n",
    "c2m.update({'SO2':64,'NO2':46,'CO':28})\n",
    "col_id=[\"C_NO\",\"XY\"]\n",
    "col_em=list(colp.values())\n",
    "col_mn=['TEMP','VEL','UTM_E', 'UTM_N','HY1','HD1','DY1']\n",
    "col_mx=['HEI']\n",
    "df['XY']=[(x,y) for x,y in zip(df.UTM_E,df.UTM_N)]\n",
    "df[\"C_NO\"]=[x[:8] for x in df.CP_NO]\n"
   ]
  },
  {
   "cell_type": "markdown",
   "id": "00000060",
   "metadata": {},
   "source": [
    "- 讀取**時變係數**並將其常態化(時間軸加總為1.0)\n",
    "  - SPECa為每煙道逐時排放量\n",
    "  \n",
    "   \n"
   ]
  },
  {
   "cell_type": "code",
   "execution_count": 37,
   "id": "00000061",
   "metadata": {},
   "outputs": [
    {
     "name": "stdout",
     "output_type": "stream",
     "text": [
      "Time fraction multiplying and expanding\n"
     ]
    }
   ],
   "source": [
    "print('Time fraction multiplying and expanding')\n",
    "#matching of the bin filenames\n",
    "nopts=len(df)\n",
    "SPECa=np.zeros(shape=(ntm,nopts,len(lspec)))\n",
    "id365=365\n",
    "if yr%4==0:id365=366\n"
   ]
  },
  {
   "cell_type": "markdown",
   "id": "00000062",
   "metadata": {},
   "source": [
    "  - 依序開啟各污染物之**時變係數**檔案\n",
    "\n",
    "   \n"
   ]
  },
  {
   "cell_type": "code",
   "execution_count": 50,
   "id": "00000063",
   "metadata": {},
   "outputs": [
    {
     "name": "stderr",
     "output_type": "stream",
     "text": [
      "/tmp/ipykernel_19354/1135795365.py:5: DeprecationWarning: `np.int` is a deprecated alias for the builtin `int`. To silence this warning, use `int` by itself. Doing this will not modify any behavior and is safe. When replacing `np.int`, you may wish to use e.g. `np.int64` or `np.int32` to specify the precision. If you wish to review your current use, check the release note link for additional information.\n",
      "Deprecated in NumPy 1.20; for more details and guidance: https://numpy.org/devdocs/release/1.20.0-notes.html#deprecations\n",
      "  mdh = f.read_record(dtype=np.int)\n"
     ]
    },
    {
     "name": "stdout",
     "output_type": "stream",
     "text": [
      "['A3400047P002' 'A3400109P001' 'A3400118P001' 'A3400172P001'\n",
      " 'A34A1392P001'] [10100 10101 10102 10103 10104]\n"
     ]
    }
   ],
   "source": [
    "for spe in list(fns)[:1]: #read the first one for eg.\n",
    "  fnameO=fns[spe]\n",
    "  with FortranFile(fnameO, 'r') as f:\n",
    "    cp = f.read_record(dtype=np.dtype('U12'))\n",
    "    mdh = f.read_record(dtype=np.int)\n",
    "    ons = f.read_record(dtype=float)\n",
    "print(cp[:5],mdh[:5]) #debugging"
   ]
  },
  {
   "cell_type": "markdown",
   "id": "00000064",
   "metadata": {},
   "source": [
    "  - `FortranFile`的特色是只有總長度，沒有形狀，需要`reshape`\n",
    "  - 對時間軸加總\n",
    "\n",
    "   \n"
   ]
  },
  {
   "cell_type": "code",
   "execution_count": 51,
   "id": "00000065",
   "metadata": {},
   "outputs": [
    {
     "name": "stdout",
     "output_type": "stream",
     "text": [
      "[[1. 1. 1. 1. 1.]\n",
      " [1. 1. 1. 1. 1.]\n",
      " [1. 1. 1. 1. 1.]\n",
      " [1. 1. 1. 1. 1.]\n",
      " [1. 1. 1. 1. 1.]]\n"
     ]
    }
   ],
   "source": [
    "  ons=ons.reshape(len(cp),len(mdh))\n",
    "  s_ons=np.sum(ons,axis=1)\n",
    "  print(ons[:5,:5]) #debugging"
   ]
  },
  {
   "cell_type": "markdown",
   "id": "00000066",
   "metadata": {},
   "source": [
    "  - 重新整理順序，只處理有排放的煙道(加總>0者)、且**管煙**編號存在於資料庫(確認用)\n",
    "\n",
    "   \n"
   ]
  },
  {
   "cell_type": "code",
   "execution_count": 52,
   "id": "00000067",
   "metadata": {},
   "outputs": [
    {
     "data": {
      "text/plain": [
       "7496"
      ]
     },
     "execution_count": 52,
     "metadata": {},
     "output_type": "execute_result"
    }
   ],
   "source": [
    "  #only those CP with emission accounts\n",
    "  idx=np.where(s_ons>0)\n",
    "  cp1 = [i for i in cp[idx[0]] if i in list(df.CP_NO)]\n",
    "  len(idx[0]) #debugging"
   ]
  },
  {
   "cell_type": "markdown",
   "id": "00000068",
   "metadata": {},
   "source": [
    "  - 因為序列的`index`指令會很耗時，先將做成`array`。\n",
    "\n",
    "   \n"
   ]
  },
  {
   "cell_type": "code",
   "execution_count": 53,
   "id": "00000069",
   "metadata": {},
   "outputs": [
    {
     "data": {
      "text/plain": [
       "7461"
      ]
     },
     "execution_count": 53,
     "metadata": {},
     "output_type": "execute_result"
    }
   ],
   "source": [
    "  idx= np.array([list(cp).index(i) for i in cp1])\n",
    "  cp, ons, s_ons =cp1,ons[idx,:],s_ons[idx]\n",
    "  #normalize to be the fractions in a year\n",
    "  len(idx) #debugging"
   ]
  },
  {
   "cell_type": "markdown",
   "id": "00000070",
   "metadata": {},
   "source": [
    "  - 常態化\n",
    "\n",
    "   \n"
   ]
  },
  {
   "cell_type": "code",
   "execution_count": 54,
   "id": "00000071",
   "metadata": {},
   "outputs": [],
   "source": [
    "  ons=ons/s_ons[:,None]\n"
   ]
  },
  {
   "cell_type": "markdown",
   "id": "00000072",
   "metadata": {},
   "source": [
    "- 製作煙道、當月啟始及終結時間的標籤\n",
    "  - 從全年的**時變**係數矩陣中提取當月部分，存成`ons2`矩陣\n",
    "\n",
    "   \n"
   ]
  },
  {
   "cell_type": "code",
   "execution_count": 57,
   "id": "00000073",
   "metadata": {},
   "outputs": [
    {
     "name": "stdout",
     "output_type": "stream",
     "text": [
      "['A3400047P002', 'A3400109P001', 'A3400118P001', 'A3400172P001', 'A34A1392P001']\n",
      "[5460. 8736. 8736. 8736. 8736.]\n",
      "[[0.00018315 0.00018315 0.00018315 0.00018315 0.00018315]\n",
      " [0.00011447 0.00011447 0.00011447 0.00011447 0.00011447]\n",
      " [0.00011447 0.00011447 0.00011447 0.00011447 0.00011447]\n",
      " [0.00011447 0.00011447 0.00011447 0.00011447 0.00011447]\n",
      " [0.00011447 0.00011447 0.00011447 0.00011447 0.00011447]]\n"
     ]
    }
   ],
   "source": [
    "  idx_cp=[list(df.CP_NO).index(i) for i in cp]\n",
    "  ibdate=list(mdh).index(int(bdate.strftime('%m%d%H')))\n",
    "  iedate=list(mdh).index(int(edate.strftime('%m%d%H')))\n",
    "  ons2=np.zeros(shape=(nopts,ntm)) #time fractions for this month\n",
    "  if ibdate>iedate:\n",
    "    endp=id365*24-ibdate\n",
    "    ons2[idx_cp,:endp]=ons[:,ibdate:]\n",
    "    ons2[idx_cp,endp:ntm]=ons[:,:iedate]\n",
    "  else:\n",
    "    ons2[idx_cp,:]=ons[:,ibdate:iedate]\n",
    "  print(cp[:5]) #debugging\n",
    "  print(s_ons[:5]) #debugging\n",
    "  print(ons2[:5,:5]) #debugging"
   ]
  },
  {
   "cell_type": "markdown",
   "id": "00000074",
   "metadata": {},
   "source": [
    "- `SPEC`為全年排放總量(時間軸為定值)，單位轉成gmole，或g。\n",
    "\n",
    "   \n"
   ]
  },
  {
   "cell_type": "code",
   "execution_count": 58,
   "id": "00000075",
   "metadata": {},
   "outputs": [],
   "source": [
    "  NREC,NC=nopts,len(cols[spe])\n",
    "  ons =np.zeros(shape=(ntm,NREC,NC))\n",
    "  SPEC=np.zeros(shape=(ntm,NREC,NC))\n",
    "  for c in cols[spe]:\n",
    "    ic=cols[spe].index(c)\n",
    "    for t in range(ntm):\n",
    "      SPEC[t,:,ic]=df[colp[c]]/c2m[c]\n"
   ]
  },
  {
   "cell_type": "markdown",
   "id": "00000076",
   "metadata": {},
   "source": [
    "- 借用之前用過的`ons`矩陣來儲存ons2的轉置結果。並進行排放總量與**時變**係數相乘\n",
    "\n",
    "   \n"
   ]
  },
  {
   "cell_type": "code",
   "execution_count": 59,
   "id": "00000077",
   "metadata": {},
   "outputs": [],
   "source": [
    "  OT=ons2.T[:,:]\n",
    "  for ic in range(NC):\n",
    "    ons[:,:,ic]=OT\n",
    "  #whole matrix production is faster than idx_cp selectively manupilated\n",
    "  for c in cols[spe]:\n",
    "    if c not in V[1]:continue\n",
    "    ic=cols[spe].index(c)\n",
    "    icp=lspec.index(c)\n",
    "    SPECa[:,:,icp]=SPEC[:,:,ic]*ons[:,:,ic]\n"
   ]
  },
  {
   "cell_type": "markdown",
   "id": "00000078",
   "metadata": {},
   "source": [
    "\n",
    "### \n",
    "- 形成新的逐時資料表(`dfT`)\n",
    "  - **管煙**編號序列重新整理，取得順位標籤`CP_NOi`\n",
    "  - 時間標籤`idatetime`\n",
    "\n",
    "   \n"
   ]
  },
  {
   "cell_type": "code",
   "execution_count": 76,
   "id": "00000079",
   "metadata": {},
   "outputs": [
    {
     "name": "stdout",
     "output_type": "stream",
     "text": [
      "pivoting along the C_NO axis\n",
      "5\n"
     ]
    }
   ],
   "source": [
    "print('pivoting along the C_NO axis')\n",
    "#forming the DataFrame\n",
    "CPlist=list(set(df.CP_NO))\n",
    "CPlist.sort()\n",
    "pwrt=int(np.log10(len(CPlist))+1)\n",
    "CPdict={i:CPlist.index(i) for i in CPlist}\n",
    "df['CP_NOi']=[CPdict[i] for i in df.CP_NO]\n",
    "idatetime=np.array([i for i in range(ntm) for j in range(nopts)],dtype=int)\n",
    "dfT=DataFrame({'idatetime':idatetime})\n",
    "print(pwrt) #debugging"
   ]
  },
  {
   "cell_type": "markdown",
   "id": "00000080",
   "metadata": {},
   "source": [
    "- 將原來的排放資料表`df`展開成`dft`\n",
    "\n",
    "   \n"
   ]
  },
  {
   "cell_type": "code",
   "execution_count": 77,
   "id": "00000081",
   "metadata": {},
   "outputs": [],
   "source": [
    "ctmp=np.zeros(shape=(ntm*nopts))\n",
    "for c in col_mn+col_mx+['CP_NOi']+['ORI_QU1']:\n",
    "  clst=np.array(list(df[c]))\n",
    "  for t in range(ntm):\n",
    "    t1,t2=t*nopts,(t+1)*nopts\n",
    "    a=clst\n",
    "    if c=='CP_NOi':a=t*10**(pwrt)+clst\n",
    "    ctmp[t1:t2]=a\n",
    "  dfT[c]=ctmp\n"
   ]
  },
  {
   "cell_type": "markdown",
   "id": "00000082",
   "metadata": {},
   "source": [
    "- 將排放量矩陣壓平後，覆蓋原本的資料庫`df`內容。\n",
    "   \n"
   ]
  },
  {
   "cell_type": "code",
   "execution_count": 78,
   "id": "00000083",
   "metadata": {},
   "outputs": [
    {
     "name": "stdout",
     "output_type": "stream",
     "text": [
      "   index  CP_NOi  ALD2  ALDX  BENZ  CCRS            CO  CPRM  ETH  ETHA  ...  \\\n",
      "0      0     0.0   0.0   0.0   0.0   0.0  4.840398e+06   0.0  0.0   0.0  ...   \n",
      "1      1     1.0   0.0   0.0   0.0   0.0  1.300039e+06   0.0  0.0   0.0  ...   \n",
      "2      2     2.0   0.0   0.0   0.0   0.0  3.352302e+05   0.0  0.0   0.0  ...   \n",
      "3      3     3.0   0.0   0.0   0.0   0.0  2.972102e+06   0.0  0.0   0.0  ...   \n",
      "4      4     4.0   0.0   0.0   0.0   0.0  1.017955e+06   0.0  0.0   0.0  ...   \n",
      "\n",
      "    HD1     HY1  ORI_QU1   TEMP         UTM_E          UTM_N  VEL   HEI  \\\n",
      "0  15.0  5460.0    189.2  202.0  54060.527015  154494.049724  9.1  51.0   \n",
      "1  24.0  8736.0     30.0  120.0  54325.725374  154014.654113  7.3  35.0   \n",
      "2  24.0  8736.0     30.0  150.0  54179.197179  155026.404876  9.1  53.0   \n",
      "3  24.0  8736.0      3.0  150.0  54200.082535  155161.330165  9.1  76.0   \n",
      "4  24.0  8736.0     45.0  150.0  54383.208009  154491.108945  9.1  57.0   \n",
      "\n",
      "        DIA  CP_NO  \n",
      "0  0.876163      0  \n",
      "1  0.354318      1  \n",
      "2  0.329237      2  \n",
      "3  0.104114      3  \n",
      "4  0.403231      4  \n",
      "\n",
      "[5 rows x 36 columns]\n"
     ]
    },
    {
     "data": {
      "text/html": [
       "<div>\n",
       "<style scoped>\n",
       "    .dataframe tbody tr th:only-of-type {\n",
       "        vertical-align: middle;\n",
       "    }\n",
       "\n",
       "    .dataframe tbody tr th {\n",
       "        vertical-align: top;\n",
       "    }\n",
       "\n",
       "    .dataframe thead th {\n",
       "        text-align: right;\n",
       "    }\n",
       "</style>\n",
       "<table border=\"1\" class=\"dataframe\">\n",
       "  <thead>\n",
       "    <tr style=\"text-align: right;\">\n",
       "      <th></th>\n",
       "      <th>index</th>\n",
       "      <th>CP_NOi</th>\n",
       "      <th>ALD2</th>\n",
       "      <th>ALDX</th>\n",
       "      <th>BENZ</th>\n",
       "      <th>CCRS</th>\n",
       "      <th>CO</th>\n",
       "      <th>CPRM</th>\n",
       "      <th>ETH</th>\n",
       "      <th>ETHA</th>\n",
       "      <th>...</th>\n",
       "      <th>HD1</th>\n",
       "      <th>HY1</th>\n",
       "      <th>ORI_QU1</th>\n",
       "      <th>TEMP</th>\n",
       "      <th>UTM_E</th>\n",
       "      <th>UTM_N</th>\n",
       "      <th>VEL</th>\n",
       "      <th>HEI</th>\n",
       "      <th>DIA</th>\n",
       "      <th>CP_NO</th>\n",
       "    </tr>\n",
       "  </thead>\n",
       "  <tbody>\n",
       "    <tr>\n",
       "      <th>17847253</th>\n",
       "      <td>17847253</td>\n",
       "      <td>79222501.0</td>\n",
       "      <td>0.0</td>\n",
       "      <td>0.0</td>\n",
       "      <td>0.0</td>\n",
       "      <td>0.0</td>\n",
       "      <td>1.185570e+05</td>\n",
       "      <td>0.0</td>\n",
       "      <td>0.0</td>\n",
       "      <td>0.0</td>\n",
       "      <td>...</td>\n",
       "      <td>24.0</td>\n",
       "      <td>8736.0</td>\n",
       "      <td>30.0</td>\n",
       "      <td>171.0</td>\n",
       "      <td>-47463.012481</td>\n",
       "      <td>295344.775743</td>\n",
       "      <td>6.5</td>\n",
       "      <td>10.0</td>\n",
       "      <td>0.399111</td>\n",
       "      <td>22501</td>\n",
       "    </tr>\n",
       "    <tr>\n",
       "      <th>17847254</th>\n",
       "      <td>17847254</td>\n",
       "      <td>79222502.0</td>\n",
       "      <td>0.0</td>\n",
       "      <td>0.0</td>\n",
       "      <td>0.0</td>\n",
       "      <td>0.0</td>\n",
       "      <td>1.185570e+05</td>\n",
       "      <td>0.0</td>\n",
       "      <td>0.0</td>\n",
       "      <td>0.0</td>\n",
       "      <td>...</td>\n",
       "      <td>24.0</td>\n",
       "      <td>8736.0</td>\n",
       "      <td>30.0</td>\n",
       "      <td>171.0</td>\n",
       "      <td>-47453.408814</td>\n",
       "      <td>295334.035409</td>\n",
       "      <td>6.5</td>\n",
       "      <td>10.0</td>\n",
       "      <td>0.399111</td>\n",
       "      <td>22502</td>\n",
       "    </tr>\n",
       "    <tr>\n",
       "      <th>17847255</th>\n",
       "      <td>17847255</td>\n",
       "      <td>79222503.0</td>\n",
       "      <td>0.0</td>\n",
       "      <td>0.0</td>\n",
       "      <td>0.0</td>\n",
       "      <td>0.0</td>\n",
       "      <td>9.247449e+06</td>\n",
       "      <td>0.0</td>\n",
       "      <td>0.0</td>\n",
       "      <td>0.0</td>\n",
       "      <td>...</td>\n",
       "      <td>24.0</td>\n",
       "      <td>8736.0</td>\n",
       "      <td>30.0</td>\n",
       "      <td>120.0</td>\n",
       "      <td>-47482.377157</td>\n",
       "      <td>295323.436803</td>\n",
       "      <td>7.3</td>\n",
       "      <td>14.0</td>\n",
       "      <td>0.354318</td>\n",
       "      <td>22503</td>\n",
       "    </tr>\n",
       "    <tr>\n",
       "      <th>17847256</th>\n",
       "      <td>17847256</td>\n",
       "      <td>79222504.0</td>\n",
       "      <td>0.0</td>\n",
       "      <td>0.0</td>\n",
       "      <td>0.0</td>\n",
       "      <td>0.0</td>\n",
       "      <td>2.081562e+05</td>\n",
       "      <td>0.0</td>\n",
       "      <td>0.0</td>\n",
       "      <td>0.0</td>\n",
       "      <td>...</td>\n",
       "      <td>24.0</td>\n",
       "      <td>8064.0</td>\n",
       "      <td>15.0</td>\n",
       "      <td>171.0</td>\n",
       "      <td>-48300.319811</td>\n",
       "      <td>295526.653788</td>\n",
       "      <td>6.5</td>\n",
       "      <td>8.0</td>\n",
       "      <td>0.282214</td>\n",
       "      <td>22504</td>\n",
       "    </tr>\n",
       "    <tr>\n",
       "      <th>17847257</th>\n",
       "      <td>17847257</td>\n",
       "      <td>79222505.0</td>\n",
       "      <td>0.0</td>\n",
       "      <td>0.0</td>\n",
       "      <td>0.0</td>\n",
       "      <td>0.0</td>\n",
       "      <td>9.300595e+04</td>\n",
       "      <td>0.0</td>\n",
       "      <td>0.0</td>\n",
       "      <td>0.0</td>\n",
       "      <td>...</td>\n",
       "      <td>24.0</td>\n",
       "      <td>8064.0</td>\n",
       "      <td>15.0</td>\n",
       "      <td>171.0</td>\n",
       "      <td>-48300.319811</td>\n",
       "      <td>295526.653788</td>\n",
       "      <td>6.5</td>\n",
       "      <td>9.0</td>\n",
       "      <td>0.282214</td>\n",
       "      <td>22505</td>\n",
       "    </tr>\n",
       "  </tbody>\n",
       "</table>\n",
       "<p>5 rows × 36 columns</p>\n",
       "</div>"
      ],
      "text/plain": [
       "             index      CP_NOi  ALD2  ALDX  BENZ  CCRS            CO  CPRM  \\\n",
       "17847253  17847253  79222501.0   0.0   0.0   0.0   0.0  1.185570e+05   0.0   \n",
       "17847254  17847254  79222502.0   0.0   0.0   0.0   0.0  1.185570e+05   0.0   \n",
       "17847255  17847255  79222503.0   0.0   0.0   0.0   0.0  9.247449e+06   0.0   \n",
       "17847256  17847256  79222504.0   0.0   0.0   0.0   0.0  2.081562e+05   0.0   \n",
       "17847257  17847257  79222505.0   0.0   0.0   0.0   0.0  9.300595e+04   0.0   \n",
       "\n",
       "          ETH  ETHA  ...   HD1     HY1  ORI_QU1   TEMP         UTM_E  \\\n",
       "17847253  0.0   0.0  ...  24.0  8736.0     30.0  171.0 -47463.012481   \n",
       "17847254  0.0   0.0  ...  24.0  8736.0     30.0  171.0 -47453.408814   \n",
       "17847255  0.0   0.0  ...  24.0  8736.0     30.0  120.0 -47482.377157   \n",
       "17847256  0.0   0.0  ...  24.0  8064.0     15.0  171.0 -48300.319811   \n",
       "17847257  0.0   0.0  ...  24.0  8064.0     15.0  171.0 -48300.319811   \n",
       "\n",
       "                  UTM_N  VEL   HEI       DIA  CP_NO  \n",
       "17847253  295344.775743  6.5  10.0  0.399111  22501  \n",
       "17847254  295334.035409  6.5  10.0  0.399111  22502  \n",
       "17847255  295323.436803  7.3  14.0  0.354318  22503  \n",
       "17847256  295526.653788  6.5   8.0  0.282214  22504  \n",
       "17847257  295526.653788  6.5   9.0  0.282214  22505  \n",
       "\n",
       "[5 rows x 36 columns]"
      ]
     },
     "execution_count": 78,
     "metadata": {},
     "output_type": "execute_result"
    }
   ],
   "source": [
    "#dfT.C_NOi=np.array(dfT.C_NOi,dtype=int)\n",
    "for c in lspec:\n",
    "  icp=lspec.index(c)\n",
    "  dfT[c]=SPECa[:,:,icp].flatten()\n",
    "#usage: orig df, index, sum_cols, mean_cols, max_cols\n",
    "df=XY_pivot(dfT,['CP_NOi'],lspec,col_mn+['ORI_QU1'],col_mx).reset_index()\n",
    "df['CP_NO']=[int(j)%10**pwrt for j in df.CP_NOi]\n",
    "print(df.head()) #debugging\n",
    "df.tail() #debugging"
   ]
  },
  {
   "cell_type": "markdown",
   "id": "00000084",
   "metadata": {},
   "source": [
    "- 進行pivot_table整併\n",
    "\n",
    "   \n"
   ]
  },
  {
   "cell_type": "code",
   "execution_count": 79,
   "id": "00000085",
   "metadata": {},
   "outputs": [
    {
     "data": {
      "text/html": [
       "<div>\n",
       "<style scoped>\n",
       "    .dataframe tbody tr th:only-of-type {\n",
       "        vertical-align: middle;\n",
       "    }\n",
       "\n",
       "    .dataframe tbody tr th {\n",
       "        vertical-align: top;\n",
       "    }\n",
       "\n",
       "    .dataframe thead th {\n",
       "        text-align: right;\n",
       "    }\n",
       "</style>\n",
       "<table border=\"1\" class=\"dataframe\">\n",
       "  <thead>\n",
       "    <tr style=\"text-align: right;\">\n",
       "      <th></th>\n",
       "      <th>index</th>\n",
       "      <th>CP_NO</th>\n",
       "      <th>ALD2</th>\n",
       "      <th>ALDX</th>\n",
       "      <th>BENZ</th>\n",
       "      <th>CCRS</th>\n",
       "      <th>CO</th>\n",
       "      <th>CPRM</th>\n",
       "      <th>ETH</th>\n",
       "      <th>ETHA</th>\n",
       "      <th>...</th>\n",
       "      <th>HD1</th>\n",
       "      <th>HY1</th>\n",
       "      <th>ORI_QU1</th>\n",
       "      <th>TEMP</th>\n",
       "      <th>UTM_E</th>\n",
       "      <th>UTM_N</th>\n",
       "      <th>VEL</th>\n",
       "      <th>HEI</th>\n",
       "      <th>DIA</th>\n",
       "      <th>CP_NOb</th>\n",
       "    </tr>\n",
       "  </thead>\n",
       "  <tbody>\n",
       "    <tr>\n",
       "      <th>0</th>\n",
       "      <td>0</td>\n",
       "      <td>0</td>\n",
       "      <td>0.0</td>\n",
       "      <td>0.0</td>\n",
       "      <td>0.0</td>\n",
       "      <td>0.0</td>\n",
       "      <td>2.400837e+09</td>\n",
       "      <td>0.0</td>\n",
       "      <td>0.0</td>\n",
       "      <td>0.0</td>\n",
       "      <td>...</td>\n",
       "      <td>15.0</td>\n",
       "      <td>5460.0</td>\n",
       "      <td>189.2</td>\n",
       "      <td>202.0</td>\n",
       "      <td>54060.527015</td>\n",
       "      <td>154494.049724</td>\n",
       "      <td>9.1</td>\n",
       "      <td>51.0</td>\n",
       "      <td>0.876163</td>\n",
       "      <td>[b'A', b'3', b'4', b'0', b'0', b'0', b'4', b'7...</td>\n",
       "    </tr>\n",
       "    <tr>\n",
       "      <th>1</th>\n",
       "      <td>1</td>\n",
       "      <td>1</td>\n",
       "      <td>0.0</td>\n",
       "      <td>0.0</td>\n",
       "      <td>0.0</td>\n",
       "      <td>0.0</td>\n",
       "      <td>1.030931e+09</td>\n",
       "      <td>0.0</td>\n",
       "      <td>0.0</td>\n",
       "      <td>0.0</td>\n",
       "      <td>...</td>\n",
       "      <td>24.0</td>\n",
       "      <td>8736.0</td>\n",
       "      <td>30.0</td>\n",
       "      <td>120.0</td>\n",
       "      <td>54325.725374</td>\n",
       "      <td>154014.654113</td>\n",
       "      <td>7.3</td>\n",
       "      <td>35.0</td>\n",
       "      <td>0.354318</td>\n",
       "      <td>[b'A', b'3', b'4', b'0', b'0', b'1', b'0', b'9...</td>\n",
       "    </tr>\n",
       "    <tr>\n",
       "      <th>2</th>\n",
       "      <td>2</td>\n",
       "      <td>2</td>\n",
       "      <td>0.0</td>\n",
       "      <td>0.0</td>\n",
       "      <td>0.0</td>\n",
       "      <td>0.0</td>\n",
       "      <td>2.658376e+08</td>\n",
       "      <td>0.0</td>\n",
       "      <td>0.0</td>\n",
       "      <td>0.0</td>\n",
       "      <td>...</td>\n",
       "      <td>24.0</td>\n",
       "      <td>8736.0</td>\n",
       "      <td>30.0</td>\n",
       "      <td>150.0</td>\n",
       "      <td>54179.197179</td>\n",
       "      <td>155026.404876</td>\n",
       "      <td>9.1</td>\n",
       "      <td>53.0</td>\n",
       "      <td>0.329237</td>\n",
       "      <td>[b'A', b'3', b'4', b'0', b'0', b'1', b'1', b'8...</td>\n",
       "    </tr>\n",
       "    <tr>\n",
       "      <th>3</th>\n",
       "      <td>3</td>\n",
       "      <td>3</td>\n",
       "      <td>0.0</td>\n",
       "      <td>0.0</td>\n",
       "      <td>0.0</td>\n",
       "      <td>0.0</td>\n",
       "      <td>2.356877e+09</td>\n",
       "      <td>0.0</td>\n",
       "      <td>0.0</td>\n",
       "      <td>0.0</td>\n",
       "      <td>...</td>\n",
       "      <td>24.0</td>\n",
       "      <td>8736.0</td>\n",
       "      <td>3.0</td>\n",
       "      <td>150.0</td>\n",
       "      <td>54200.082535</td>\n",
       "      <td>155161.330165</td>\n",
       "      <td>9.1</td>\n",
       "      <td>76.0</td>\n",
       "      <td>0.104114</td>\n",
       "      <td>[b'A', b'3', b'4', b'0', b'0', b'1', b'7', b'2...</td>\n",
       "    </tr>\n",
       "    <tr>\n",
       "      <th>4</th>\n",
       "      <td>4</td>\n",
       "      <td>4</td>\n",
       "      <td>0.0</td>\n",
       "      <td>0.0</td>\n",
       "      <td>0.0</td>\n",
       "      <td>0.0</td>\n",
       "      <td>8.072385e+08</td>\n",
       "      <td>0.0</td>\n",
       "      <td>0.0</td>\n",
       "      <td>0.0</td>\n",
       "      <td>...</td>\n",
       "      <td>24.0</td>\n",
       "      <td>8736.0</td>\n",
       "      <td>45.0</td>\n",
       "      <td>150.0</td>\n",
       "      <td>54383.208009</td>\n",
       "      <td>154491.108945</td>\n",
       "      <td>9.1</td>\n",
       "      <td>57.0</td>\n",
       "      <td>0.403231</td>\n",
       "      <td>[b'A', b'3', b'4', b'A', b'1', b'3', b'9', b'2...</td>\n",
       "    </tr>\n",
       "  </tbody>\n",
       "</table>\n",
       "<p>5 rows × 36 columns</p>\n",
       "</div>"
      ],
      "text/plain": [
       "   index  CP_NO  ALD2  ALDX  BENZ  CCRS            CO  CPRM  ETH  ETHA  ...  \\\n",
       "0      0      0   0.0   0.0   0.0   0.0  2.400837e+09   0.0  0.0   0.0  ...   \n",
       "1      1      1   0.0   0.0   0.0   0.0  1.030931e+09   0.0  0.0   0.0  ...   \n",
       "2      2      2   0.0   0.0   0.0   0.0  2.658376e+08   0.0  0.0   0.0  ...   \n",
       "3      3      3   0.0   0.0   0.0   0.0  2.356877e+09   0.0  0.0   0.0  ...   \n",
       "4      4      4   0.0   0.0   0.0   0.0  8.072385e+08   0.0  0.0   0.0  ...   \n",
       "\n",
       "    HD1     HY1  ORI_QU1   TEMP         UTM_E          UTM_N  VEL   HEI  \\\n",
       "0  15.0  5460.0    189.2  202.0  54060.527015  154494.049724  9.1  51.0   \n",
       "1  24.0  8736.0     30.0  120.0  54325.725374  154014.654113  7.3  35.0   \n",
       "2  24.0  8736.0     30.0  150.0  54179.197179  155026.404876  9.1  53.0   \n",
       "3  24.0  8736.0      3.0  150.0  54200.082535  155161.330165  9.1  76.0   \n",
       "4  24.0  8736.0     45.0  150.0  54383.208009  154491.108945  9.1  57.0   \n",
       "\n",
       "        DIA                                             CP_NOb  \n",
       "0  0.876163  [b'A', b'3', b'4', b'0', b'0', b'0', b'4', b'7...  \n",
       "1  0.354318  [b'A', b'3', b'4', b'0', b'0', b'1', b'0', b'9...  \n",
       "2  0.329237  [b'A', b'3', b'4', b'0', b'0', b'1', b'1', b'8...  \n",
       "3  0.104114  [b'A', b'3', b'4', b'0', b'0', b'1', b'7', b'2...  \n",
       "4  0.403231  [b'A', b'3', b'4', b'A', b'1', b'3', b'9', b'2...  \n",
       "\n",
       "[5 rows x 36 columns]"
      ]
     },
     "execution_count": 79,
     "metadata": {},
     "output_type": "execute_result"
    }
   ],
   "source": [
    "pv=XY_pivot(df,['CP_NO'],lspec,col_mn+['ORI_QU1'],col_mx).reset_index()\n",
    "Bdict={CPdict[j]:[bytes(i,encoding='utf-8') for i in j] for j in CPlist}\n",
    "pv['CP_NOb'] =[Bdict[i] for i in pv.CP_NO]\n",
    "nopts=len(set(pv))\n",
    "pv.head()"
   ]
  },
  {
   "cell_type": "markdown",
   "id": "00000086",
   "metadata": {},
   "source": [
    "- 控制料堆排放量\n",
    "  - 將`df`另存成`fth`檔案，釋放記憶體，以接續nc檔案之儲存。\n",
    "\n",
    "   \n"
   ]
  },
  {
   "cell_type": "code",
   "execution_count": 44,
   "id": "00000087",
   "metadata": {},
   "outputs": [],
   "source": [
    "#blanck the PY sources\n",
    "PY=pv.loc[pv.CP_NOb.map(lambda x:x[8:10]==[b'P', b'Y'])]\n",
    "nPY=len(PY)\n",
    "a=np.zeros(ntm*nPY)\n",
    "for t in range(ntm):\n",
    "  t1,t2=t*nPY,(t+1)*nPY\n",
    "  a[t1:t2]=t*nopts+np.array(PY.index,dtype=int)\n",
    "for c in colc:\n",
    "  ca=df.loc[a,c]/5.\n",
    "  df.loc[a,c]=ca\n",
    "df.to_feather('df'+mm+'.fth')\n",
    "pv.set_index('CP_NO').to_csv('pv'+mm+'.csv')\n",
    "sys.exit()\n"
   ]
  },
  {
   "cell_type": "markdown",
   "id": "00000088",
   "metadata": {},
   "source": [
    "\n",
    "## 檔案下載\n",
    "- `python`程式：[ptseE_ONS.py](https://raw.githubusercontent.com/sinotec2/Focus-on-Air-Quality/main/EmisProc/ptse/ptseE.py)。\n",
    "- `jupyter-notebook`檔案\n",
    "  - [ptseE_ONS.ipynb](https://raw.githubusercontent.com/sinotec2/Focus-on-Air-Quality/main/EmisProc/ptse/ptseE.ipynb)\n",
    "  - [nbviewer](https://nbviewer.org/raw.githubusercontent.com/sinotec2/Focus-on-Air-Quality/main/EmisProc/ptse/ptseE.ipynb)\n",
    "\n",
    "\n",
    "## Reference\n"
   ]
  }
 ],
 "metadata": {
  "kernelspec": {
   "display_name": "Python 3 (ipykernel)",
   "language": "python",
   "name": "python3"
  },
  "language_info": {
   "codemirror_mode": {
    "name": "ipython",
    "version": 3
   },
   "file_extension": ".py",
   "mimetype": "text/x-python",
   "name": "python",
   "nbconvert_exporter": "python",
   "pygments_lexer": "ipython3",
   "version": "3.9.7"
  }
 },
 "nbformat": 4,
 "nbformat_minor": 5
}
